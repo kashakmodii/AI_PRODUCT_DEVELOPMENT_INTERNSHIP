{
  "nbformat": 4,
  "nbformat_minor": 0,
  "metadata": {
    "colab": {
      "provenance": []
    },
    "kernelspec": {
      "name": "python3",
      "display_name": "Python 3"
    },
    "language_info": {
      "name": "python"
    }
  },
  "cells": [
    {
      "cell_type": "markdown",
      "source": [
        "## Portfolio Value at Risk(VaR)"
      ],
      "metadata": {
        "id": "zYi2q1zsTVWl"
      }
    },
    {
      "cell_type": "markdown",
      "source": [
        "## Theoretical Description\n",
        "This project analyzes the Value at Risk (VaR) for a portfolio of tech stocks (AAPL, MSFT, GOOGL, AMZN) using three different methodologies: Normal Distribution, Student's t-Distribution, and Historical Simulation. VaR is a statistical technique used to measure and quantify the level of financial risk within a portfolio over a specific time frame."
      ],
      "metadata": {
        "id": "Moj_jhJDTcur"
      }
    },
    {
      "cell_type": "markdown",
      "source": [
        "\n",
        "\n",
        "---\n",
        "\n",
        "\n",
        "Installs the yfinance package, which is used to download historical market data from Yahoo Finance.\n",
        "\n",
        "--quiet suppresses unnecessary output during installation.\n",
        "\n",
        "\n",
        "---\n",
        "\n"
      ],
      "metadata": {
        "id": "DKsJvsUAVnoc"
      }
    },
    {
      "cell_type": "code",
      "source": [
        "!pip install --quiet yfinance"
      ],
      "metadata": {
        "id": "SmRbmduy4m4y"
      },
      "execution_count": 42,
      "outputs": []
    },
    {
      "cell_type": "markdown",
      "source": [
        "\n",
        "\n",
        "---\n",
        "\n",
        "\n",
        "Imports all required libraries.\n",
        "\n",
        "ticker list: contains stock symbols for Apple, Microsoft, Google, and Amazon.\n",
        "\n",
        "weights: equal allocation for each stock in the portfolio (25% each).\n",
        "\n",
        "Sets the data range from Jan 1, 2020 to today.\n",
        "\n",
        "Creates a date-based DataFrame price to hold adjusted closing prices.\n",
        "\n",
        "For each stock:\n",
        "\n",
        "Tries to fetch data using yfinance.\n",
        "\n",
        "If it fails, falls back to pandas_datareader and uses data from Stooq.\n",
        "\n",
        "Fills missing data using forward fill (ffill) and backward fill (bfill)\n",
        "\n",
        "\n",
        "\n",
        "\n",
        "---\n",
        "\n"
      ],
      "metadata": {
        "id": "K7Y7OuRTVx9o"
      }
    },
    {
      "cell_type": "code",
      "source": [
        "import time\n",
        "import yfinance as yf\n",
        "import pandas_datareader as pdr\n",
        "import numpy as np\n",
        "import datetime as dt\n",
        "import pandas as pd\n",
        "\n",
        "ticker = ['AAPL','MSFT','GOOGL','AMZN']\n",
        "weights = np.array([0.25,0.25,0.25,0.25])\n",
        "\n",
        "start = dt.datetime(2020,1,1)\n",
        "end = dt.datetime.today()\n",
        "\n",
        "price = pd.DataFrame(index=pd.date_range(start,end))\n",
        "\n",
        "for t in ticker:\n",
        "  print(f\"fetching{ticker}\",end = \"\")\n",
        "  try:\n",
        "    df = yf.Ticker(ticker).history(start=start.strftime(\"%Y-%m-%d\"),end = end.strftime(\"%Y-%m-%d\"),auto_adjust=True,)\n",
        "    series = df['Close']\n",
        "    print(\"Y finance \",end=\"\")\n",
        "  except Exception as e:\n",
        "    print(f\"X yfinance ({e}); falling back to Stooq\")\n",
        "    df2 = pdr.DataReader(ticker,'stooq',start,end)\n",
        "    df2 = df2.sort_index()\n",
        "    series= df2['Close']\n",
        "\n",
        "  price[ticker] = series\n",
        "  time.sleep(1)\n",
        "\n",
        "price = price.dropna(how='all').ffill().bfill()\n",
        "print(price.tail())"
      ],
      "metadata": {
        "colab": {
          "base_uri": "https://localhost:8080/"
        },
        "id": "4rDTs9hK9SKZ",
        "outputId": "641ddb2a-4418-406f-9123-d00ce0c1260d"
      },
      "execution_count": 43,
      "outputs": [
        {
          "output_type": "stream",
          "name": "stdout",
          "text": [
            "fetching['AAPL', 'MSFT', 'GOOGL', 'AMZN']X yfinance ('list' object has no attribute 'upper'); falling back to Stooq\n",
            "fetching['AAPL', 'MSFT', 'GOOGL', 'AMZN']X yfinance ('list' object has no attribute 'upper'); falling back to Stooq\n",
            "fetching['AAPL', 'MSFT', 'GOOGL', 'AMZN']X yfinance ('list' object has no attribute 'upper'); falling back to Stooq\n",
            "fetching['AAPL', 'MSFT', 'GOOGL', 'AMZN']X yfinance ('list' object has no attribute 'upper'); falling back to Stooq\n",
            "              AAPL    MSFT   GOOGL    AMZN\n",
            "2025-05-19  208.78  458.87  166.54  206.16\n",
            "2025-05-20  206.86  458.17  163.98  204.07\n",
            "2025-05-21  202.09  452.57  168.56  201.12\n",
            "2025-05-22  201.36  454.86  170.87  203.10\n",
            "2025-05-23  195.27  450.18  168.47  200.99\n"
          ]
        }
      ]
    },
    {
      "cell_type": "markdown",
      "source": [
        "\n",
        "\n",
        "---\n",
        "\n",
        "\n",
        "Calculates log returns and shows the first 5 rows\n",
        "\n",
        "\n",
        "---\n",
        "\n"
      ],
      "metadata": {
        "id": "D8jjiV-UW144"
      }
    },
    {
      "cell_type": "code",
      "source": [
        "logR=np.log(price /price.shift(1)).dropna()\n",
        "logR.head()"
      ],
      "metadata": {
        "colab": {
          "base_uri": "https://localhost:8080/",
          "height": 206
        },
        "id": "QYAWEMF-BPC1",
        "outputId": "0aece3cb-fdaf-4972-d673-fbc221e50a7d"
      },
      "execution_count": 44,
      "outputs": [
        {
          "output_type": "execute_result",
          "data": {
            "text/plain": [
              "                AAPL      MSFT     GOOGL      AMZN\n",
              "2020-01-03 -0.009737 -0.012360 -0.005243 -0.012213\n",
              "2020-01-06  0.007879  0.002580  0.026304  0.014776\n",
              "2020-01-07 -0.004666 -0.009299 -0.001935  0.002089\n",
              "2020-01-08  0.015943  0.016008  0.007094 -0.007839\n",
              "2020-01-09  0.021054  0.012240  0.010441  0.004788"
            ],
            "text/html": [
              "\n",
              "  <div id=\"df-bb28b478-d46d-4b25-8cc9-ecbdcf835723\" class=\"colab-df-container\">\n",
              "    <div>\n",
              "<style scoped>\n",
              "    .dataframe tbody tr th:only-of-type {\n",
              "        vertical-align: middle;\n",
              "    }\n",
              "\n",
              "    .dataframe tbody tr th {\n",
              "        vertical-align: top;\n",
              "    }\n",
              "\n",
              "    .dataframe thead th {\n",
              "        text-align: right;\n",
              "    }\n",
              "</style>\n",
              "<table border=\"1\" class=\"dataframe\">\n",
              "  <thead>\n",
              "    <tr style=\"text-align: right;\">\n",
              "      <th></th>\n",
              "      <th>AAPL</th>\n",
              "      <th>MSFT</th>\n",
              "      <th>GOOGL</th>\n",
              "      <th>AMZN</th>\n",
              "    </tr>\n",
              "  </thead>\n",
              "  <tbody>\n",
              "    <tr>\n",
              "      <th>2020-01-03</th>\n",
              "      <td>-0.009737</td>\n",
              "      <td>-0.012360</td>\n",
              "      <td>-0.005243</td>\n",
              "      <td>-0.012213</td>\n",
              "    </tr>\n",
              "    <tr>\n",
              "      <th>2020-01-06</th>\n",
              "      <td>0.007879</td>\n",
              "      <td>0.002580</td>\n",
              "      <td>0.026304</td>\n",
              "      <td>0.014776</td>\n",
              "    </tr>\n",
              "    <tr>\n",
              "      <th>2020-01-07</th>\n",
              "      <td>-0.004666</td>\n",
              "      <td>-0.009299</td>\n",
              "      <td>-0.001935</td>\n",
              "      <td>0.002089</td>\n",
              "    </tr>\n",
              "    <tr>\n",
              "      <th>2020-01-08</th>\n",
              "      <td>0.015943</td>\n",
              "      <td>0.016008</td>\n",
              "      <td>0.007094</td>\n",
              "      <td>-0.007839</td>\n",
              "    </tr>\n",
              "    <tr>\n",
              "      <th>2020-01-09</th>\n",
              "      <td>0.021054</td>\n",
              "      <td>0.012240</td>\n",
              "      <td>0.010441</td>\n",
              "      <td>0.004788</td>\n",
              "    </tr>\n",
              "  </tbody>\n",
              "</table>\n",
              "</div>\n",
              "    <div class=\"colab-df-buttons\">\n",
              "\n",
              "  <div class=\"colab-df-container\">\n",
              "    <button class=\"colab-df-convert\" onclick=\"convertToInteractive('df-bb28b478-d46d-4b25-8cc9-ecbdcf835723')\"\n",
              "            title=\"Convert this dataframe to an interactive table.\"\n",
              "            style=\"display:none;\">\n",
              "\n",
              "  <svg xmlns=\"http://www.w3.org/2000/svg\" height=\"24px\" viewBox=\"0 -960 960 960\">\n",
              "    <path d=\"M120-120v-720h720v720H120Zm60-500h600v-160H180v160Zm220 220h160v-160H400v160Zm0 220h160v-160H400v160ZM180-400h160v-160H180v160Zm440 0h160v-160H620v160ZM180-180h160v-160H180v160Zm440 0h160v-160H620v160Z\"/>\n",
              "  </svg>\n",
              "    </button>\n",
              "\n",
              "  <style>\n",
              "    .colab-df-container {\n",
              "      display:flex;\n",
              "      gap: 12px;\n",
              "    }\n",
              "\n",
              "    .colab-df-convert {\n",
              "      background-color: #E8F0FE;\n",
              "      border: none;\n",
              "      border-radius: 50%;\n",
              "      cursor: pointer;\n",
              "      display: none;\n",
              "      fill: #1967D2;\n",
              "      height: 32px;\n",
              "      padding: 0 0 0 0;\n",
              "      width: 32px;\n",
              "    }\n",
              "\n",
              "    .colab-df-convert:hover {\n",
              "      background-color: #E2EBFA;\n",
              "      box-shadow: 0px 1px 2px rgba(60, 64, 67, 0.3), 0px 1px 3px 1px rgba(60, 64, 67, 0.15);\n",
              "      fill: #174EA6;\n",
              "    }\n",
              "\n",
              "    .colab-df-buttons div {\n",
              "      margin-bottom: 4px;\n",
              "    }\n",
              "\n",
              "    [theme=dark] .colab-df-convert {\n",
              "      background-color: #3B4455;\n",
              "      fill: #D2E3FC;\n",
              "    }\n",
              "\n",
              "    [theme=dark] .colab-df-convert:hover {\n",
              "      background-color: #434B5C;\n",
              "      box-shadow: 0px 1px 3px 1px rgba(0, 0, 0, 0.15);\n",
              "      filter: drop-shadow(0px 1px 2px rgba(0, 0, 0, 0.3));\n",
              "      fill: #FFFFFF;\n",
              "    }\n",
              "  </style>\n",
              "\n",
              "    <script>\n",
              "      const buttonEl =\n",
              "        document.querySelector('#df-bb28b478-d46d-4b25-8cc9-ecbdcf835723 button.colab-df-convert');\n",
              "      buttonEl.style.display =\n",
              "        google.colab.kernel.accessAllowed ? 'block' : 'none';\n",
              "\n",
              "      async function convertToInteractive(key) {\n",
              "        const element = document.querySelector('#df-bb28b478-d46d-4b25-8cc9-ecbdcf835723');\n",
              "        const dataTable =\n",
              "          await google.colab.kernel.invokeFunction('convertToInteractive',\n",
              "                                                    [key], {});\n",
              "        if (!dataTable) return;\n",
              "\n",
              "        const docLinkHtml = 'Like what you see? Visit the ' +\n",
              "          '<a target=\"_blank\" href=https://colab.research.google.com/notebooks/data_table.ipynb>data table notebook</a>'\n",
              "          + ' to learn more about interactive tables.';\n",
              "        element.innerHTML = '';\n",
              "        dataTable['output_type'] = 'display_data';\n",
              "        await google.colab.output.renderOutput(dataTable, element);\n",
              "        const docLink = document.createElement('div');\n",
              "        docLink.innerHTML = docLinkHtml;\n",
              "        element.appendChild(docLink);\n",
              "      }\n",
              "    </script>\n",
              "  </div>\n",
              "\n",
              "\n",
              "    <div id=\"df-5c573ba8-3eb8-4104-b5fa-a32b90f5c2df\">\n",
              "      <button class=\"colab-df-quickchart\" onclick=\"quickchart('df-5c573ba8-3eb8-4104-b5fa-a32b90f5c2df')\"\n",
              "                title=\"Suggest charts\"\n",
              "                style=\"display:none;\">\n",
              "\n",
              "<svg xmlns=\"http://www.w3.org/2000/svg\" height=\"24px\"viewBox=\"0 0 24 24\"\n",
              "     width=\"24px\">\n",
              "    <g>\n",
              "        <path d=\"M19 3H5c-1.1 0-2 .9-2 2v14c0 1.1.9 2 2 2h14c1.1 0 2-.9 2-2V5c0-1.1-.9-2-2-2zM9 17H7v-7h2v7zm4 0h-2V7h2v10zm4 0h-2v-4h2v4z\"/>\n",
              "    </g>\n",
              "</svg>\n",
              "      </button>\n",
              "\n",
              "<style>\n",
              "  .colab-df-quickchart {\n",
              "      --bg-color: #E8F0FE;\n",
              "      --fill-color: #1967D2;\n",
              "      --hover-bg-color: #E2EBFA;\n",
              "      --hover-fill-color: #174EA6;\n",
              "      --disabled-fill-color: #AAA;\n",
              "      --disabled-bg-color: #DDD;\n",
              "  }\n",
              "\n",
              "  [theme=dark] .colab-df-quickchart {\n",
              "      --bg-color: #3B4455;\n",
              "      --fill-color: #D2E3FC;\n",
              "      --hover-bg-color: #434B5C;\n",
              "      --hover-fill-color: #FFFFFF;\n",
              "      --disabled-bg-color: #3B4455;\n",
              "      --disabled-fill-color: #666;\n",
              "  }\n",
              "\n",
              "  .colab-df-quickchart {\n",
              "    background-color: var(--bg-color);\n",
              "    border: none;\n",
              "    border-radius: 50%;\n",
              "    cursor: pointer;\n",
              "    display: none;\n",
              "    fill: var(--fill-color);\n",
              "    height: 32px;\n",
              "    padding: 0;\n",
              "    width: 32px;\n",
              "  }\n",
              "\n",
              "  .colab-df-quickchart:hover {\n",
              "    background-color: var(--hover-bg-color);\n",
              "    box-shadow: 0 1px 2px rgba(60, 64, 67, 0.3), 0 1px 3px 1px rgba(60, 64, 67, 0.15);\n",
              "    fill: var(--button-hover-fill-color);\n",
              "  }\n",
              "\n",
              "  .colab-df-quickchart-complete:disabled,\n",
              "  .colab-df-quickchart-complete:disabled:hover {\n",
              "    background-color: var(--disabled-bg-color);\n",
              "    fill: var(--disabled-fill-color);\n",
              "    box-shadow: none;\n",
              "  }\n",
              "\n",
              "  .colab-df-spinner {\n",
              "    border: 2px solid var(--fill-color);\n",
              "    border-color: transparent;\n",
              "    border-bottom-color: var(--fill-color);\n",
              "    animation:\n",
              "      spin 1s steps(1) infinite;\n",
              "  }\n",
              "\n",
              "  @keyframes spin {\n",
              "    0% {\n",
              "      border-color: transparent;\n",
              "      border-bottom-color: var(--fill-color);\n",
              "      border-left-color: var(--fill-color);\n",
              "    }\n",
              "    20% {\n",
              "      border-color: transparent;\n",
              "      border-left-color: var(--fill-color);\n",
              "      border-top-color: var(--fill-color);\n",
              "    }\n",
              "    30% {\n",
              "      border-color: transparent;\n",
              "      border-left-color: var(--fill-color);\n",
              "      border-top-color: var(--fill-color);\n",
              "      border-right-color: var(--fill-color);\n",
              "    }\n",
              "    40% {\n",
              "      border-color: transparent;\n",
              "      border-right-color: var(--fill-color);\n",
              "      border-top-color: var(--fill-color);\n",
              "    }\n",
              "    60% {\n",
              "      border-color: transparent;\n",
              "      border-right-color: var(--fill-color);\n",
              "    }\n",
              "    80% {\n",
              "      border-color: transparent;\n",
              "      border-right-color: var(--fill-color);\n",
              "      border-bottom-color: var(--fill-color);\n",
              "    }\n",
              "    90% {\n",
              "      border-color: transparent;\n",
              "      border-bottom-color: var(--fill-color);\n",
              "    }\n",
              "  }\n",
              "</style>\n",
              "\n",
              "      <script>\n",
              "        async function quickchart(key) {\n",
              "          const quickchartButtonEl =\n",
              "            document.querySelector('#' + key + ' button');\n",
              "          quickchartButtonEl.disabled = true;  // To prevent multiple clicks.\n",
              "          quickchartButtonEl.classList.add('colab-df-spinner');\n",
              "          try {\n",
              "            const charts = await google.colab.kernel.invokeFunction(\n",
              "                'suggestCharts', [key], {});\n",
              "          } catch (error) {\n",
              "            console.error('Error during call to suggestCharts:', error);\n",
              "          }\n",
              "          quickchartButtonEl.classList.remove('colab-df-spinner');\n",
              "          quickchartButtonEl.classList.add('colab-df-quickchart-complete');\n",
              "        }\n",
              "        (() => {\n",
              "          let quickchartButtonEl =\n",
              "            document.querySelector('#df-5c573ba8-3eb8-4104-b5fa-a32b90f5c2df button');\n",
              "          quickchartButtonEl.style.display =\n",
              "            google.colab.kernel.accessAllowed ? 'block' : 'none';\n",
              "        })();\n",
              "      </script>\n",
              "    </div>\n",
              "\n",
              "    </div>\n",
              "  </div>\n"
            ],
            "application/vnd.google.colaboratory.intrinsic+json": {
              "type": "dataframe",
              "variable_name": "logR",
              "summary": "{\n  \"name\": \"logR\",\n  \"rows\": 1355,\n  \"fields\": [\n    {\n      \"column\": \"AAPL\",\n      \"properties\": {\n        \"dtype\": \"number\",\n        \"std\": 0.020620683544569297,\n        \"min\": -0.1376927064460318,\n        \"max\": 0.1426174108719208,\n        \"num_unique_values\": 1352,\n        \"samples\": [\n          -0.1376927064460318,\n          0.02636425966933029,\n          -0.011343358474013908\n        ],\n        \"semantic_type\": \"\",\n        \"description\": \"\"\n      }\n    },\n    {\n      \"column\": \"MSFT\",\n      \"properties\": {\n        \"dtype\": \"number\",\n        \"std\": 0.01929360817016824,\n        \"min\": -0.159548979767852,\n        \"max\": 0.13297171499172128,\n        \"num_unique_values\": 1354,\n        \"samples\": [\n          -0.159548979767852,\n          0.013126524138818372,\n          0.00961873307491615\n        ],\n        \"semantic_type\": \"\",\n        \"description\": \"\"\n      }\n    },\n    {\n      \"column\": \"GOOGL\",\n      \"properties\": {\n        \"dtype\": \"number\",\n        \"std\": 0.02075532004587688,\n        \"min\": -0.12368486567039876,\n        \"max\": 0.09734517980694847,\n        \"num_unique_values\": 1354,\n        \"samples\": [\n          -0.12368486567039876,\n          0.0059387104949611145,\n          -0.016337027571451113\n        ],\n        \"semantic_type\": \"\",\n        \"description\": \"\"\n      }\n    },\n    {\n      \"column\": \"AMZN\",\n      \"properties\": {\n        \"dtype\": \"number\",\n        \"std\": 0.022883546718985258,\n        \"min\": -0.15139046973548317,\n        \"max\": 0.12694854705521322,\n        \"num_unique_values\": 1353,\n        \"samples\": [\n          -0.05519297140259527,\n          0.0018476975033634034,\n          -0.021703004458623384\n        ],\n        \"semantic_type\": \"\",\n        \"description\": \"\"\n      }\n    }\n  ]\n}"
            }
          },
          "metadata": {},
          "execution_count": 44
        }
      ]
    },
    {
      "cell_type": "markdown",
      "source": [
        "\n",
        "\n",
        "---\n",
        "Calculates and summarizes statistical properties for each stock’s log return:\n",
        "\n",
        "Mean: average return.\n",
        "\n",
        "Variance: how volatile the returns are.\n",
        "\n",
        "Skew: symmetry of the distribution (positive/negative tail).\n",
        "\n",
        "Kurtosis: peakedness of the distribution (high values = fat tails).\n",
        "\n",
        "\n",
        "---\n",
        "\n",
        "\n"
      ],
      "metadata": {
        "id": "CLpe5Eo8YyPE"
      }
    },
    {
      "cell_type": "code",
      "source": [
        "summary=pd.DataFrame({\n",
        "    'Mean': logR.mean(),\n",
        "    'Variance': logR.var(),\n",
        "    'Skew': logR.skew(),\n",
        "    'Kurtosis': logR.kurtosis()\n",
        "})\n",
        "summary"
      ],
      "metadata": {
        "colab": {
          "base_uri": "https://localhost:8080/",
          "height": 175
        },
        "id": "NMRcy5ZaGtxe",
        "outputId": "4b58dd30-83c8-4f5f-d04b-dd314d7f304c"
      },
      "execution_count": 45,
      "outputs": [
        {
          "output_type": "execute_result",
          "data": {
            "text/plain": [
              "           Mean  Variance      Skew  Kurtosis\n",
              "AAPL   0.000729  0.000425  0.021101  6.205990\n",
              "MSFT   0.000794  0.000372 -0.163478  7.433061\n",
              "GOOGL  0.000668  0.000431 -0.226302  3.635737\n",
              "AMZN   0.000554  0.000524 -0.068525  4.163218"
            ],
            "text/html": [
              "\n",
              "  <div id=\"df-aa486fc7-2809-46d9-89de-eaf14a6310e3\" class=\"colab-df-container\">\n",
              "    <div>\n",
              "<style scoped>\n",
              "    .dataframe tbody tr th:only-of-type {\n",
              "        vertical-align: middle;\n",
              "    }\n",
              "\n",
              "    .dataframe tbody tr th {\n",
              "        vertical-align: top;\n",
              "    }\n",
              "\n",
              "    .dataframe thead th {\n",
              "        text-align: right;\n",
              "    }\n",
              "</style>\n",
              "<table border=\"1\" class=\"dataframe\">\n",
              "  <thead>\n",
              "    <tr style=\"text-align: right;\">\n",
              "      <th></th>\n",
              "      <th>Mean</th>\n",
              "      <th>Variance</th>\n",
              "      <th>Skew</th>\n",
              "      <th>Kurtosis</th>\n",
              "    </tr>\n",
              "  </thead>\n",
              "  <tbody>\n",
              "    <tr>\n",
              "      <th>AAPL</th>\n",
              "      <td>0.000729</td>\n",
              "      <td>0.000425</td>\n",
              "      <td>0.021101</td>\n",
              "      <td>6.205990</td>\n",
              "    </tr>\n",
              "    <tr>\n",
              "      <th>MSFT</th>\n",
              "      <td>0.000794</td>\n",
              "      <td>0.000372</td>\n",
              "      <td>-0.163478</td>\n",
              "      <td>7.433061</td>\n",
              "    </tr>\n",
              "    <tr>\n",
              "      <th>GOOGL</th>\n",
              "      <td>0.000668</td>\n",
              "      <td>0.000431</td>\n",
              "      <td>-0.226302</td>\n",
              "      <td>3.635737</td>\n",
              "    </tr>\n",
              "    <tr>\n",
              "      <th>AMZN</th>\n",
              "      <td>0.000554</td>\n",
              "      <td>0.000524</td>\n",
              "      <td>-0.068525</td>\n",
              "      <td>4.163218</td>\n",
              "    </tr>\n",
              "  </tbody>\n",
              "</table>\n",
              "</div>\n",
              "    <div class=\"colab-df-buttons\">\n",
              "\n",
              "  <div class=\"colab-df-container\">\n",
              "    <button class=\"colab-df-convert\" onclick=\"convertToInteractive('df-aa486fc7-2809-46d9-89de-eaf14a6310e3')\"\n",
              "            title=\"Convert this dataframe to an interactive table.\"\n",
              "            style=\"display:none;\">\n",
              "\n",
              "  <svg xmlns=\"http://www.w3.org/2000/svg\" height=\"24px\" viewBox=\"0 -960 960 960\">\n",
              "    <path d=\"M120-120v-720h720v720H120Zm60-500h600v-160H180v160Zm220 220h160v-160H400v160Zm0 220h160v-160H400v160ZM180-400h160v-160H180v160Zm440 0h160v-160H620v160ZM180-180h160v-160H180v160Zm440 0h160v-160H620v160Z\"/>\n",
              "  </svg>\n",
              "    </button>\n",
              "\n",
              "  <style>\n",
              "    .colab-df-container {\n",
              "      display:flex;\n",
              "      gap: 12px;\n",
              "    }\n",
              "\n",
              "    .colab-df-convert {\n",
              "      background-color: #E8F0FE;\n",
              "      border: none;\n",
              "      border-radius: 50%;\n",
              "      cursor: pointer;\n",
              "      display: none;\n",
              "      fill: #1967D2;\n",
              "      height: 32px;\n",
              "      padding: 0 0 0 0;\n",
              "      width: 32px;\n",
              "    }\n",
              "\n",
              "    .colab-df-convert:hover {\n",
              "      background-color: #E2EBFA;\n",
              "      box-shadow: 0px 1px 2px rgba(60, 64, 67, 0.3), 0px 1px 3px 1px rgba(60, 64, 67, 0.15);\n",
              "      fill: #174EA6;\n",
              "    }\n",
              "\n",
              "    .colab-df-buttons div {\n",
              "      margin-bottom: 4px;\n",
              "    }\n",
              "\n",
              "    [theme=dark] .colab-df-convert {\n",
              "      background-color: #3B4455;\n",
              "      fill: #D2E3FC;\n",
              "    }\n",
              "\n",
              "    [theme=dark] .colab-df-convert:hover {\n",
              "      background-color: #434B5C;\n",
              "      box-shadow: 0px 1px 3px 1px rgba(0, 0, 0, 0.15);\n",
              "      filter: drop-shadow(0px 1px 2px rgba(0, 0, 0, 0.3));\n",
              "      fill: #FFFFFF;\n",
              "    }\n",
              "  </style>\n",
              "\n",
              "    <script>\n",
              "      const buttonEl =\n",
              "        document.querySelector('#df-aa486fc7-2809-46d9-89de-eaf14a6310e3 button.colab-df-convert');\n",
              "      buttonEl.style.display =\n",
              "        google.colab.kernel.accessAllowed ? 'block' : 'none';\n",
              "\n",
              "      async function convertToInteractive(key) {\n",
              "        const element = document.querySelector('#df-aa486fc7-2809-46d9-89de-eaf14a6310e3');\n",
              "        const dataTable =\n",
              "          await google.colab.kernel.invokeFunction('convertToInteractive',\n",
              "                                                    [key], {});\n",
              "        if (!dataTable) return;\n",
              "\n",
              "        const docLinkHtml = 'Like what you see? Visit the ' +\n",
              "          '<a target=\"_blank\" href=https://colab.research.google.com/notebooks/data_table.ipynb>data table notebook</a>'\n",
              "          + ' to learn more about interactive tables.';\n",
              "        element.innerHTML = '';\n",
              "        dataTable['output_type'] = 'display_data';\n",
              "        await google.colab.output.renderOutput(dataTable, element);\n",
              "        const docLink = document.createElement('div');\n",
              "        docLink.innerHTML = docLinkHtml;\n",
              "        element.appendChild(docLink);\n",
              "      }\n",
              "    </script>\n",
              "  </div>\n",
              "\n",
              "\n",
              "    <div id=\"df-e7f10f84-6f6a-4971-a155-47008f4bfced\">\n",
              "      <button class=\"colab-df-quickchart\" onclick=\"quickchart('df-e7f10f84-6f6a-4971-a155-47008f4bfced')\"\n",
              "                title=\"Suggest charts\"\n",
              "                style=\"display:none;\">\n",
              "\n",
              "<svg xmlns=\"http://www.w3.org/2000/svg\" height=\"24px\"viewBox=\"0 0 24 24\"\n",
              "     width=\"24px\">\n",
              "    <g>\n",
              "        <path d=\"M19 3H5c-1.1 0-2 .9-2 2v14c0 1.1.9 2 2 2h14c1.1 0 2-.9 2-2V5c0-1.1-.9-2-2-2zM9 17H7v-7h2v7zm4 0h-2V7h2v10zm4 0h-2v-4h2v4z\"/>\n",
              "    </g>\n",
              "</svg>\n",
              "      </button>\n",
              "\n",
              "<style>\n",
              "  .colab-df-quickchart {\n",
              "      --bg-color: #E8F0FE;\n",
              "      --fill-color: #1967D2;\n",
              "      --hover-bg-color: #E2EBFA;\n",
              "      --hover-fill-color: #174EA6;\n",
              "      --disabled-fill-color: #AAA;\n",
              "      --disabled-bg-color: #DDD;\n",
              "  }\n",
              "\n",
              "  [theme=dark] .colab-df-quickchart {\n",
              "      --bg-color: #3B4455;\n",
              "      --fill-color: #D2E3FC;\n",
              "      --hover-bg-color: #434B5C;\n",
              "      --hover-fill-color: #FFFFFF;\n",
              "      --disabled-bg-color: #3B4455;\n",
              "      --disabled-fill-color: #666;\n",
              "  }\n",
              "\n",
              "  .colab-df-quickchart {\n",
              "    background-color: var(--bg-color);\n",
              "    border: none;\n",
              "    border-radius: 50%;\n",
              "    cursor: pointer;\n",
              "    display: none;\n",
              "    fill: var(--fill-color);\n",
              "    height: 32px;\n",
              "    padding: 0;\n",
              "    width: 32px;\n",
              "  }\n",
              "\n",
              "  .colab-df-quickchart:hover {\n",
              "    background-color: var(--hover-bg-color);\n",
              "    box-shadow: 0 1px 2px rgba(60, 64, 67, 0.3), 0 1px 3px 1px rgba(60, 64, 67, 0.15);\n",
              "    fill: var(--button-hover-fill-color);\n",
              "  }\n",
              "\n",
              "  .colab-df-quickchart-complete:disabled,\n",
              "  .colab-df-quickchart-complete:disabled:hover {\n",
              "    background-color: var(--disabled-bg-color);\n",
              "    fill: var(--disabled-fill-color);\n",
              "    box-shadow: none;\n",
              "  }\n",
              "\n",
              "  .colab-df-spinner {\n",
              "    border: 2px solid var(--fill-color);\n",
              "    border-color: transparent;\n",
              "    border-bottom-color: var(--fill-color);\n",
              "    animation:\n",
              "      spin 1s steps(1) infinite;\n",
              "  }\n",
              "\n",
              "  @keyframes spin {\n",
              "    0% {\n",
              "      border-color: transparent;\n",
              "      border-bottom-color: var(--fill-color);\n",
              "      border-left-color: var(--fill-color);\n",
              "    }\n",
              "    20% {\n",
              "      border-color: transparent;\n",
              "      border-left-color: var(--fill-color);\n",
              "      border-top-color: var(--fill-color);\n",
              "    }\n",
              "    30% {\n",
              "      border-color: transparent;\n",
              "      border-left-color: var(--fill-color);\n",
              "      border-top-color: var(--fill-color);\n",
              "      border-right-color: var(--fill-color);\n",
              "    }\n",
              "    40% {\n",
              "      border-color: transparent;\n",
              "      border-right-color: var(--fill-color);\n",
              "      border-top-color: var(--fill-color);\n",
              "    }\n",
              "    60% {\n",
              "      border-color: transparent;\n",
              "      border-right-color: var(--fill-color);\n",
              "    }\n",
              "    80% {\n",
              "      border-color: transparent;\n",
              "      border-right-color: var(--fill-color);\n",
              "      border-bottom-color: var(--fill-color);\n",
              "    }\n",
              "    90% {\n",
              "      border-color: transparent;\n",
              "      border-bottom-color: var(--fill-color);\n",
              "    }\n",
              "  }\n",
              "</style>\n",
              "\n",
              "      <script>\n",
              "        async function quickchart(key) {\n",
              "          const quickchartButtonEl =\n",
              "            document.querySelector('#' + key + ' button');\n",
              "          quickchartButtonEl.disabled = true;  // To prevent multiple clicks.\n",
              "          quickchartButtonEl.classList.add('colab-df-spinner');\n",
              "          try {\n",
              "            const charts = await google.colab.kernel.invokeFunction(\n",
              "                'suggestCharts', [key], {});\n",
              "          } catch (error) {\n",
              "            console.error('Error during call to suggestCharts:', error);\n",
              "          }\n",
              "          quickchartButtonEl.classList.remove('colab-df-spinner');\n",
              "          quickchartButtonEl.classList.add('colab-df-quickchart-complete');\n",
              "        }\n",
              "        (() => {\n",
              "          let quickchartButtonEl =\n",
              "            document.querySelector('#df-e7f10f84-6f6a-4971-a155-47008f4bfced button');\n",
              "          quickchartButtonEl.style.display =\n",
              "            google.colab.kernel.accessAllowed ? 'block' : 'none';\n",
              "        })();\n",
              "      </script>\n",
              "    </div>\n",
              "\n",
              "  <div id=\"id_59a4d1c6-dc05-498f-bb06-de381b434dbf\">\n",
              "    <style>\n",
              "      .colab-df-generate {\n",
              "        background-color: #E8F0FE;\n",
              "        border: none;\n",
              "        border-radius: 50%;\n",
              "        cursor: pointer;\n",
              "        display: none;\n",
              "        fill: #1967D2;\n",
              "        height: 32px;\n",
              "        padding: 0 0 0 0;\n",
              "        width: 32px;\n",
              "      }\n",
              "\n",
              "      .colab-df-generate:hover {\n",
              "        background-color: #E2EBFA;\n",
              "        box-shadow: 0px 1px 2px rgba(60, 64, 67, 0.3), 0px 1px 3px 1px rgba(60, 64, 67, 0.15);\n",
              "        fill: #174EA6;\n",
              "      }\n",
              "\n",
              "      [theme=dark] .colab-df-generate {\n",
              "        background-color: #3B4455;\n",
              "        fill: #D2E3FC;\n",
              "      }\n",
              "\n",
              "      [theme=dark] .colab-df-generate:hover {\n",
              "        background-color: #434B5C;\n",
              "        box-shadow: 0px 1px 3px 1px rgba(0, 0, 0, 0.15);\n",
              "        filter: drop-shadow(0px 1px 2px rgba(0, 0, 0, 0.3));\n",
              "        fill: #FFFFFF;\n",
              "      }\n",
              "    </style>\n",
              "    <button class=\"colab-df-generate\" onclick=\"generateWithVariable('summary')\"\n",
              "            title=\"Generate code using this dataframe.\"\n",
              "            style=\"display:none;\">\n",
              "\n",
              "  <svg xmlns=\"http://www.w3.org/2000/svg\" height=\"24px\"viewBox=\"0 0 24 24\"\n",
              "       width=\"24px\">\n",
              "    <path d=\"M7,19H8.4L18.45,9,17,7.55,7,17.6ZM5,21V16.75L18.45,3.32a2,2,0,0,1,2.83,0l1.4,1.43a1.91,1.91,0,0,1,.58,1.4,1.91,1.91,0,0,1-.58,1.4L9.25,21ZM18.45,9,17,7.55Zm-12,3A5.31,5.31,0,0,0,4.9,8.1,5.31,5.31,0,0,0,1,6.5,5.31,5.31,0,0,0,4.9,4.9,5.31,5.31,0,0,0,6.5,1,5.31,5.31,0,0,0,8.1,4.9,5.31,5.31,0,0,0,12,6.5,5.46,5.46,0,0,0,6.5,12Z\"/>\n",
              "  </svg>\n",
              "    </button>\n",
              "    <script>\n",
              "      (() => {\n",
              "      const buttonEl =\n",
              "        document.querySelector('#id_59a4d1c6-dc05-498f-bb06-de381b434dbf button.colab-df-generate');\n",
              "      buttonEl.style.display =\n",
              "        google.colab.kernel.accessAllowed ? 'block' : 'none';\n",
              "\n",
              "      buttonEl.onclick = () => {\n",
              "        google.colab.notebook.generateWithVariable('summary');\n",
              "      }\n",
              "      })();\n",
              "    </script>\n",
              "  </div>\n",
              "\n",
              "    </div>\n",
              "  </div>\n"
            ],
            "application/vnd.google.colaboratory.intrinsic+json": {
              "type": "dataframe",
              "variable_name": "summary",
              "summary": "{\n  \"name\": \"summary\",\n  \"rows\": 4,\n  \"fields\": [\n    {\n      \"column\": \"Mean\",\n      \"properties\": {\n        \"dtype\": \"number\",\n        \"std\": 0.00010201696499188762,\n        \"min\": 0.0005538200599791592,\n        \"max\": 0.0007935136902116798,\n        \"num_unique_values\": 4,\n        \"samples\": [\n          0.0007935136902116798,\n          0.0005538200599791592,\n          0.0007290187440475113\n        ],\n        \"semantic_type\": \"\",\n        \"description\": \"\"\n      }\n    },\n    {\n      \"column\": \"Variance\",\n      \"properties\": {\n        \"dtype\": \"number\",\n        \"std\": 6.291954986817855e-05,\n        \"min\": 0.00037224331622398273,\n        \"max\": 0.000523656710439981,\n        \"num_unique_values\": 4,\n        \"samples\": [\n          0.00037224331622398273,\n          0.000523656710439981,\n          0.00042521258984527094\n        ],\n        \"semantic_type\": \"\",\n        \"description\": \"\"\n      }\n    },\n    {\n      \"column\": \"Skew\",\n      \"properties\": {\n        \"dtype\": \"number\",\n        \"std\": 0.10846136075409195,\n        \"min\": -0.22630171310148264,\n        \"max\": 0.021100736983077087,\n        \"num_unique_values\": 4,\n        \"samples\": [\n          -0.16347780380748625,\n          -0.06852485029618303,\n          0.021100736983077087\n        ],\n        \"semantic_type\": \"\",\n        \"description\": \"\"\n      }\n    },\n    {\n      \"column\": \"Kurtosis\",\n      \"properties\": {\n        \"dtype\": \"number\",\n        \"std\": 1.7718776461386554,\n        \"min\": 3.6357367576537656,\n        \"max\": 7.433061256596867,\n        \"num_unique_values\": 4,\n        \"samples\": [\n          7.433061256596867,\n          4.1632179900541715,\n          6.205989533793325\n        ],\n        \"semantic_type\": \"\",\n        \"description\": \"\"\n      }\n    }\n  ]\n}"
            }
          },
          "metadata": {},
          "execution_count": 45
        }
      ]
    },
    {
      "cell_type": "markdown",
      "source": [],
      "metadata": {
        "id": "hbjvbb-CY4H4"
      }
    },
    {
      "cell_type": "markdown",
      "source": [
        "\n",
        "\n",
        "---\n",
        "\n",
        "Plots the histogram of all log returns.\n",
        "\n",
        "bins=50 splits the return range into 50 intervals.\n",
        "\n",
        "Helps visualize whether returns are normally distributed or skewed.\n",
        "\n",
        "\n",
        "---\n",
        "\n"
      ],
      "metadata": {
        "id": "XW7M2Bs-axn9"
      }
    },
    {
      "cell_type": "code",
      "source": [
        "import matplotlib.pyplot as plt\n",
        "\n",
        "fig, axes = plt.subplots(2, 2, figsize=(12, 8))\n",
        "\n",
        "axes[0, 0].hist(logR['AAPL'], bins=50, alpha=0.7)\n",
        "axes[0, 0].set_title(\"AAPL Daily log-return distribution\")\n",
        "\n",
        "axes[0, 1].hist(logR['MSFT'], bins=50, alpha=0.7)\n",
        "axes[0, 1].set_title(\"MSFT Daily log-return distribution\")\n",
        "\n",
        "axes[1, 0].hist(logR['GOOGL'], bins=50, alpha=0.7)\n",
        "axes[1, 0].set_title(\"GOOGL Daily log-return distribution\")\n",
        "\n",
        "axes[1, 1].hist(logR['AMZN'], bins=50, alpha=0.7)\n",
        "axes[1, 1].set_title(\"AMZN Daily log-return distribution\")\n",
        "\n",
        "plt.tight_layout()\n",
        "plt.show()"
      ],
      "metadata": {
        "colab": {
          "base_uri": "https://localhost:8080/",
          "height": 807
        },
        "id": "bcMEZ4FlIYxi",
        "outputId": "7bda9992-72fb-4c3e-9e3e-fce09e2be61a"
      },
      "execution_count": 46,
      "outputs": [
        {
          "output_type": "display_data",
          "data": {
            "text/plain": [
              "<Figure size 1200x800 with 4 Axes>"
            ],
            "image/png": "[encoded data removed]"
          },
          "metadata": {}
        }
      ]
    },
    {
      "cell_type": "markdown",
      "source": [
        "\n",
        "\n",
        "---\n",
        "\n",
        "Computes 95% confidence intervals:\n",
        "\n",
        "For the mean using the normal distribution.\n",
        "\n",
        "For standard deviation using the chi-square distribution.\n",
        "\n",
        "mu_norm and sigma_norm are the average and std dev of all stock returns (flattened).\n",
        "\n",
        "z95 = 1.96 (critical z-value for 95%).\n",
        "\n",
        "---\n",
        "\n"
      ],
      "metadata": {
        "id": "F5gq8jsCa7zc"
      }
    },
    {
      "cell_type": "code",
      "source": [
        "from scipy import stats\n",
        "mu_norm,sigma_norm=logR.stack().mean(),logR.stack().std()\n",
        "print(mu_norm,sigma_norm)\n",
        "N=logR.size\n",
        "z95=stats.norm.ppf(0.975)\n",
        "ci_mu_norm=(mu_norm-z95*sigma_norm/np.sqrt(N),\n",
        "            mu_norm+z95*sigma_norm/np.sqrt(N))\n",
        "print(ci_mu_norm)\n",
        "df=N-1\n",
        "chi2_low,chi2_high=stats.chi2.ppf([0.025,0.975],df)\n",
        "ci_sigma_norm=(sigma_norm/np.sqrt(chi2_low),\n",
        "               sigma_norm/np.sqrt(chi2_high))\n",
        "print(ci_sigma_norm)"
      ],
      "metadata": {
        "colab": {
          "base_uri": "https://localhost:8080/"
        },
        "id": "uL6JZxsUKfdA",
        "outputId": "cf988b02-f8b6-4113-ec20-808afe4ac9b1"
      },
      "execution_count": 47,
      "outputs": [
        {
          "output_type": "stream",
          "name": "stdout",
          "text": [
            "0.0006859712775575028 0.020922220794094164\n",
            "(np.float64(0.00012896995203800729), np.float64(0.0012429726030769982))\n",
            "(np.float64(0.00028966985217469685), np.float64(0.0002789646523838673))\n"
          ]
        }
      ]
    },
    {
      "cell_type": "markdown",
      "source": [
        "\n",
        "\n",
        "---\n",
        "\n",
        "Converts 2D returns DataFrame into a 1D array for easier statistical fitting (like fitting a distribution).\n",
        "\n",
        "---\n",
        "\n"
      ],
      "metadata": {
        "id": "7mnm3FFCbL21"
      }
    },
    {
      "cell_type": "code",
      "source": [
        "returns_flat=logR.stack().values\n",
        "returns_flat"
      ],
      "metadata": {
        "colab": {
          "base_uri": "https://localhost:8080/"
        },
        "id": "fTywQZJNQyy9",
        "outputId": "e43490b5-9216-46c2-970b-c35f32727845"
      },
      "execution_count": 48,
      "outputs": [
        {
          "output_type": "execute_result",
          "data": {
            "text/plain": [
              "array([-0.00973699, -0.01236019, -0.00524347, ..., -0.01034218,\n",
              "       -0.01414534, -0.01044331])"
            ]
          },
          "metadata": {},
          "execution_count": 48
        }
      ]
    },
    {
      "cell_type": "markdown",
      "source": [
        "\n",
        "\n",
        "---\n",
        "\n",
        "Fits a Student’s t-distribution to the returns.\n",
        "\n",
        "Outputs:\n",
        "\n",
        "df_t: degrees of freedom\n",
        "\n",
        "mu_t: mean\n",
        "\n",
        "sigma_t: scale (similar to std dev)\n",
        "\n",
        "Student’s t handles fat tails better than normal distribution.\n",
        "\n",
        "\n",
        "---\n",
        "\n"
      ],
      "metadata": {
        "id": "Byoj2SwjbPSb"
      }
    },
    {
      "cell_type": "code",
      "source": [
        "# Fit student's t\n",
        "df_t,mu_t,sigma_t=stats.t.fit(returns_flat)\n",
        "print(df_t,mu_t,sigma_t)"
      ],
      "metadata": {
        "colab": {
          "base_uri": "https://localhost:8080/"
        },
        "id": "FG1scQjDUg-O",
        "outputId": "e1d8466d-439f-4a22-f56d-8661e6f2667f"
      },
      "execution_count": 49,
      "outputs": [
        {
          "output_type": "stream",
          "name": "stdout",
          "text": [
            "3.660116438457905 0.0010340415786940123 0.014476880375190765\n"
          ]
        }
      ]
    },
    {
      "cell_type": "markdown",
      "source": [
        "\n",
        "\n",
        "---\n",
        "\n",
        "Bootstrapping technique:\n",
        "\n",
        "Randomly resample return data 1000 times (with replacement).\n",
        "\n",
        "Fit t-distribution for each resample.\n",
        "\n",
        "Store estimates for later CI calculation.\n",
        "\n",
        "---\n",
        "\n",
        "\n"
      ],
      "metadata": {
        "id": "oOCU03ruW0jl"
      }
    },
    {
      "cell_type": "code",
      "source": [
        "B=1000\n",
        "estimates=np.array([\n",
        "    stats.t.fit(np.random.choice(returns_flat,size=N,replace=True))\n",
        "    for _ in range(B)\n",
        "])"
      ],
      "metadata": {
        "id": "BySnlj_jW5Iq"
      },
      "execution_count": 50,
      "outputs": []
    },
    {
      "cell_type": "markdown",
      "source": [
        "\n",
        "\n",
        "---\n",
        "\n",
        "Constructs confidence intervals from the bootstrap estimates for:\n",
        "\n",
        "Mean (mu_t)\n",
        "\n",
        "Std deviation (sigma_t)\n",
        "\n",
        "np.percentile gets 2.5% and 97.5% bounds.\n",
        "\n",
        "---\n",
        "\n"
      ],
      "metadata": {
        "id": "BRhBujQmbhxH"
      }
    },
    {
      "cell_type": "code",
      "source": [
        "ci_mu_t=np.percentile(estimates[:,1],[2.5,97.5])\n",
        "ci_sigma_t=np.percentile(estimates[:,2],[2.5,97.5])\n",
        "print(ci_mu_t)\n",
        "print(ci_sigma_t)"
      ],
      "metadata": {
        "id": "HilfHmKDXNGs",
        "colab": {
          "base_uri": "https://localhost:8080/"
        },
        "outputId": "fc01ef01-5389-444b-ea20-3a453645dc73"
      },
      "execution_count": 51,
      "outputs": [
        {
          "output_type": "stream",
          "name": "stdout",
          "text": [
            "[0.00059753 0.00150132]\n",
            "[0.01401775 0.01494804]\n"
          ]
        }
      ]
    },
    {
      "cell_type": "markdown",
      "source": [
        "\n",
        "\n",
        "---\n",
        "\n",
        "Computes portfolio returns as a weighted sum of log returns.\n",
        "weights is a vector  [0.25, 0.25, 0.25,0.25] representing portfolio allocation.\n",
        "\n",
        "---\n",
        "\n"
      ],
      "metadata": {
        "id": "Hj7YXZ7GI2p-"
      }
    },
    {
      "cell_type": "code",
      "source": [
        "portR=logR.dot(weights)\n",
        "portR"
      ],
      "metadata": {
        "colab": {
          "base_uri": "https://localhost:8080/",
          "height": 458
        },
        "id": "yoboYPuF_b2F",
        "outputId": "7d233cd6-c9e8-4e2b-8e94-365da98bebe5"
      },
      "execution_count": 52,
      "outputs": [
        {
          "output_type": "execute_result",
          "data": {
            "text/plain": [
              "2020-01-03   -0.009888\n",
              "2020-01-06    0.012885\n",
              "2020-01-07   -0.003453\n",
              "2020-01-08    0.007801\n",
              "2020-01-09    0.012131\n",
              "                ...   \n",
              "2025-05-19    0.000785\n",
              "2025-05-20   -0.009112\n",
              "2025-05-21   -0.005660\n",
              "2025-05-22    0.006209\n",
              "2025-05-23   -0.016410\n",
              "Length: 1355, dtype: float64"
            ],
            "text/html": [
              "<div>\n",
              "<style scoped>\n",
              "    .dataframe tbody tr th:only-of-type {\n",
              "        vertical-align: middle;\n",
              "    }\n",
              "\n",
              "    .dataframe tbody tr th {\n",
              "        vertical-align: top;\n",
              "    }\n",
              "\n",
              "    .dataframe thead th {\n",
              "        text-align: right;\n",
              "    }\n",
              "</style>\n",
              "<table border=\"1\" class=\"dataframe\">\n",
              "  <thead>\n",
              "    <tr style=\"text-align: right;\">\n",
              "      <th></th>\n",
              "      <th>0</th>\n",
              "    </tr>\n",
              "  </thead>\n",
              "  <tbody>\n",
              "    <tr>\n",
              "      <th>2020-01-03</th>\n",
              "      <td>-0.009888</td>\n",
              "    </tr>\n",
              "    <tr>\n",
              "      <th>2020-01-06</th>\n",
              "      <td>0.012885</td>\n",
              "    </tr>\n",
              "    <tr>\n",
              "      <th>2020-01-07</th>\n",
              "      <td>-0.003453</td>\n",
              "    </tr>\n",
              "    <tr>\n",
              "      <th>2020-01-08</th>\n",
              "      <td>0.007801</td>\n",
              "    </tr>\n",
              "    <tr>\n",
              "      <th>2020-01-09</th>\n",
              "      <td>0.012131</td>\n",
              "    </tr>\n",
              "    <tr>\n",
              "      <th>...</th>\n",
              "      <td>...</td>\n",
              "    </tr>\n",
              "    <tr>\n",
              "      <th>2025-05-19</th>\n",
              "      <td>0.000785</td>\n",
              "    </tr>\n",
              "    <tr>\n",
              "      <th>2025-05-20</th>\n",
              "      <td>-0.009112</td>\n",
              "    </tr>\n",
              "    <tr>\n",
              "      <th>2025-05-21</th>\n",
              "      <td>-0.005660</td>\n",
              "    </tr>\n",
              "    <tr>\n",
              "      <th>2025-05-22</th>\n",
              "      <td>0.006209</td>\n",
              "    </tr>\n",
              "    <tr>\n",
              "      <th>2025-05-23</th>\n",
              "      <td>-0.016410</td>\n",
              "    </tr>\n",
              "  </tbody>\n",
              "</table>\n",
              "<p>1355 rows × 1 columns</p>\n",
              "</div><br><label><b>dtype:</b> float64</label>"
            ]
          },
          "metadata": {},
          "execution_count": 52
        }
      ]
    },
    {
      "cell_type": "markdown",
      "source": [
        "\n",
        "\n",
        "---\n",
        "Calculates mean (mu_p) and sample standard deviation (sigma_p) of portfolio returns.\n",
        "\n",
        "Used later to compute parametric VaR.\n",
        "\n",
        "\n",
        "---\n",
        "\n"
      ],
      "metadata": {
        "id": "NDkRLpo3c2u_"
      }
    },
    {
      "cell_type": "code",
      "source": [
        "mu_p=portR.mean()\n",
        "sigma_p=portR.std(ddof=1)\n",
        "print(mu_p,sigma_p )"
      ],
      "metadata": {
        "colab": {
          "base_uri": "https://localhost:8080/"
        },
        "id": "0OsC9asp_gdk",
        "outputId": "05aab1d7-a3e0-42fb-de78-185e4fe3b79d"
      },
      "execution_count": 53,
      "outputs": [
        {
          "output_type": "stream",
          "name": "stdout",
          "text": [
            "0.0006859712775575028 0.018162312831094218\n"
          ]
        }
      ]
    },
    {
      "cell_type": "markdown",
      "source": [
        "\n",
        "\n",
        "---\n",
        "\n",
        "Fetches the z-score corresponding to 5% in the standard normal distribution:\n",
        "Used for calculating VaR at 95% confidence.\n",
        "\n",
        "---\n",
        "\n"
      ],
      "metadata": {
        "id": "pTg3dWCYc6nS"
      }
    },
    {
      "cell_type": "code",
      "source": [
        "z05=stats.norm.ppf(0.05)"
      ],
      "metadata": {
        "id": "StOHOD3RAGAy"
      },
      "execution_count": 54,
      "outputs": []
    },
    {
      "cell_type": "markdown",
      "source": [
        "##Compute VaR using Normal Distribution\n",
        "\n",
        "\n",
        "---\n",
        "\n",
        "Computes Parametric VaR under normality assumption:\n",
        "\n",
        "VaR(95%)=𝜇+𝜎⋅𝑧0.05\n",
        "Interpreted as: \"With 95% confidence, we don't expect a loss worse than VaR in 1 day\".\n",
        "\n",
        "---\n",
        "\n"
      ],
      "metadata": {
        "id": "Til5IMX1dD-7"
      }
    },
    {
      "cell_type": "code",
      "source": [
        "vaR_norm=(mu_p+sigma_p*z05)\n",
        "print(vaR_norm)"
      ],
      "metadata": {
        "colab": {
          "base_uri": "https://localhost:8080/"
        },
        "id": "rrzXrE3eAYdh",
        "outputId": "c46bb974-3ddd-4bc5-ba15-3c9405bfa378"
      },
      "execution_count": 55,
      "outputs": [
        {
          "output_type": "stream",
          "name": "stdout",
          "text": [
            "-0.029188374856495097\n"
          ]
        }
      ]
    },
    {
      "cell_type": "markdown",
      "source": [
        "## Parametric VaR under Students's t Distribution\n",
        "\n",
        "\n",
        "---\n",
        "\n",
        "Fits Student's t again to all returns.\n",
        "\n",
        "Uses the t-distribution to compute VaR:\n",
        "\n",
        "VaR(𝑡)=−(𝜇𝑡+𝜎𝑡⋅𝑡0.05, 𝑑𝑓)\n",
        "\n",
        "More conservative for fat-tailed data (heavier tails = higher risk).\n",
        "\n",
        "---\n",
        "\n"
      ],
      "metadata": {
        "id": "WnXQvl0bCh8F"
      }
    },
    {
      "cell_type": "code",
      "source": [
        "df_t,mu_t,sigma_t=stats.t.fit(returns_flat)\n",
        "print(df_t,mu_t,sigma_t)\n",
        "\n",
        "t05=stats.t.ppf(0.05,df_t)\n",
        "VaR_t=-(mu_t+sigma_t*t05)*1\n",
        "print(VaR_t)"
      ],
      "metadata": {
        "colab": {
          "base_uri": "https://localhost:8080/"
        },
        "id": "MPEyNwdsAgSE",
        "outputId": "c935ba57-7f5c-4e80-d2fe-30c07da0abf9"
      },
      "execution_count": 56,
      "outputs": [
        {
          "output_type": "stream",
          "name": "stdout",
          "text": [
            "3.660116438457905 0.0010340415786940123 0.014476880375190765\n",
            "0.030670593733411636\n"
          ]
        }
      ]
    },
    {
      "cell_type": "markdown",
      "source": [
        "## Historical Method(non-parametric):\n",
        "\n",
        "\n",
        "---\n",
        "\n",
        "Uses actual data percentiles:\n",
        "\n",
        "VaR(historical)=−5th percentile of returns\n",
        "\n",
        "No assumption about distribution. Relies on past losses.\n",
        "\n",
        "---\n",
        "\n"
      ],
      "metadata": {
        "id": "Au5P2GGgFRCW"
      }
    },
    {
      "cell_type": "code",
      "source": [
        "hist_var=-np.percentile(portR,5)\n",
        "print(hist_var)"
      ],
      "metadata": {
        "colab": {
          "base_uri": "https://localhost:8080/"
        },
        "id": "kjpNJ5naD2LL",
        "outputId": "64f9d214-c200-4c23-e5b4-88a698eb499e"
      },
      "execution_count": 57,
      "outputs": [
        {
          "output_type": "stream",
          "name": "stdout",
          "text": [
            "0.02892601519327567\n"
          ]
        }
      ]
    },
    {
      "cell_type": "markdown",
      "source": [
        "### Hypothesis Test on Portfolio Return\n",
        "\n",
        "\n",
        "---\n",
        "\n",
        "Null Hypothesis (H₀): Mean return of portfolio = 0.\n",
        "\n",
        "t-test checks if portfolio returns are significantly different from 0.\n",
        "\n",
        "If p_val < 0.05, we reject H₀, suggesting non-zero mean return.\n",
        "\n",
        "---\n",
        "\n"
      ],
      "metadata": {
        "id": "jq_N8iosIb-A"
      }
    },
    {
      "cell_type": "code",
      "source": [
        "t_stat,p_val=stats.ttest_1samp(portR,0.0)\n",
        "print(t_stat,p_val)\n",
        "if p_val<0.05:\n",
        "  print(\"Reject the null hypothesis\")\n",
        "else:\n",
        "  print(\"Fail to reject the null hypothesis\")"
      ],
      "metadata": {
        "id": "kiA2rl9xHPCf",
        "colab": {
          "base_uri": "https://localhost:8080/"
        },
        "outputId": "ef68a335-73a6-4812-b1ba-270836cdce80"
      },
      "execution_count": 58,
      "outputs": [
        {
          "output_type": "stream",
          "name": "stdout",
          "text": [
            "1.3902868899177394 0.16467026409734656\n",
            "Fail to reject the null hypothesis\n"
          ]
        }
      ]
    },
    {
      "cell_type": "markdown",
      "source": [
        "## Correlation Matrix & Diversification Benefit\n",
        "\n",
        "\n",
        "---\n",
        "\n",
        "Plots correlation heatmap between assets.\n",
        "\n",
        "Then calculates diversification benefit:\n",
        "\n",
        "Benefit=Weighted Std Dev−Portfolio Std Dev\n",
        "\n",
        "Lower portfolio volatility implies better diversification.\n",
        "\n",
        "---\n",
        "\n"
      ],
      "metadata": {
        "id": "R4UQZKxDeXgE"
      }
    },
    {
      "cell_type": "code",
      "source": [
        "import seaborn as sns\n",
        "\n",
        "corr=logR.corr()\n",
        "plt.figure(figsize=(6,5))\n",
        "sns.heatmap(corr,annot=True,cmap='coolwarm',vmin=-1,vmax=1)\n",
        "plt.title('Correlation Heatmap')\n",
        "plt.show()\n",
        "\n",
        "sigma_i = logR.std()\n",
        "sigma_weighted = np.dot(weights, sigma_i)\n",
        "sigma_portfolio = sigma_p\n",
        "print(f\"Weighted avg sigma: {sigma_weighted:.4f}\")\n",
        "print(f\"Actual Portfolio: {sigma_portfolio:.4f}\")\n",
        "print(f\"Diversification benefit: {sigma_weighted-sigma_portfolio:.4f}\")\n"
      ],
      "metadata": {
        "id": "iXmJUKEQXUqO",
        "colab": {
          "base_uri": "https://localhost:8080/",
          "height": 523
        },
        "outputId": "b8c29a3a-7061-44ff-cc10-a7cb55ff9bf6"
      },
      "execution_count": 59,
      "outputs": [
        {
          "output_type": "display_data",
          "data": {
            "text/plain": [
              "<Figure size 600x500 with 2 Axes>"
            ],
            "image/png": "[encoded data removed]"
          },
          "metadata": {}
        },
        {
          "output_type": "stream",
          "name": "stdout",
          "text": [
            "Weighted avg sigma: 0.0209\n",
            "Actual Portfolio: 0.0182\n",
            "Diversification benefit: 0.0027\n"
          ]
        }
      ]
    },
    {
      "cell_type": "markdown",
      "source": [
        "## Cumulative Returns & Portfolio Growth\n",
        "\n",
        "\n",
        "---\n",
        "\n",
        "cum_ret: Calculates cumulative return of each asset.\n",
        "\n",
        "cum_port: Calculates cumulative portfolio return by compounding daily returns:\n",
        "\n",
        "---\n",
        "\n"
      ],
      "metadata": {
        "id": "PC1SRjDfcAJL"
      }
    },
    {
      "cell_type": "code",
      "source": [
        "cum_ret=(price/price.iloc[0]).prod(axis=1)\n",
        "cum_port=(portR+1).cumprod()"
      ],
      "metadata": {
        "id": "kc32ILCGXhkg"
      },
      "execution_count": 60,
      "outputs": []
    },
    {
      "cell_type": "markdown",
      "source": [
        "\n",
        "\n",
        "---\n",
        "\n",
        "Rolling Max: Keeps track of the highest portfolio value so far.\n",
        "\n",
        "Drawdown: Measures the percentage drop from the peak.\n",
        "\n",
        "Max Drawdown (MDD): Largest observed drawdown.\n",
        "\n",
        "End Date: When the MDD occurred.\n",
        "\n",
        "---\n",
        "\n"
      ],
      "metadata": {
        "id": "OF7U_MXXfRuS"
      }
    },
    {
      "cell_type": "code",
      "source": [
        "rolling_max=cum_port.cummax()\n",
        "drawdown=(cum_port-rolling_max)/rolling_max\n",
        "max_dd=drawdown.min()\n",
        "end_date=drawdown.idxmin()"
      ],
      "metadata": {
        "id": "ilUeOsmKdU3u"
      },
      "execution_count": 61,
      "outputs": []
    },
    {
      "cell_type": "markdown",
      "source": [
        "\n",
        "\n",
        "---\n",
        "\n",
        "Line chart for cumulative portfolio value.\n",
        "\n",
        "Red shaded area shows when portfolio is in drawdown.\n",
        "\n",
        "---\n",
        "\n"
      ],
      "metadata": {
        "id": "m4sDo7sJfe_M"
      }
    },
    {
      "cell_type": "code",
      "source": [
        "plt.plot(cum_port,label='Cumulative')\n",
        "plt.fill_between(drawdown.index,cum_port,rolling_max,where=drawdown<0,color='red',alpha=0.5,label='Drawdown')\n",
        "plt.legend()\n",
        "plt.show()"
      ],
      "metadata": {
        "colab": {
          "base_uri": "https://localhost:8080/",
          "height": 430
        },
        "id": "Qc9r9ioWeYyN",
        "outputId": "0b48ee3d-239c-4b3e-8b2f-25d8ef55af88"
      },
      "execution_count": 62,
      "outputs": [
        {
          "output_type": "display_data",
          "data": {
            "text/plain": [
              "<Figure size 640x480 with 1 Axes>"
            ],
            "image/png": "[encoded data removed]"
          },
          "metadata": {}
        }
      ]
    },
    {
      "cell_type": "markdown",
      "source": [
        "## Expected Shortfall (ES) Calculation\n",
        "\n",
        "\n",
        "---\n",
        "\n",
        "Expected Shortfall (ES) = expected loss given that VaR is breached.\n",
        "\n",
        "ES_historical: Mean of worst 5% returns (non-parametric).\n",
        "\n",
        "ES_norm: ES using normal distribution:\n",
        "\n",
        "ES(norm)=𝜇+𝜎⋅𝜙(𝑧)/𝛼\n",
        "\n",
        "where\n",
        "𝜙(𝑧) is the standard normal PDF at VaR point.\n",
        "\n",
        "---\n",
        "\n"
      ],
      "metadata": {
        "id": "RHGOD_wXJFIx"
      }
    },
    {
      "cell_type": "code",
      "source": [
        "alpha=0.5 ## ES at beyond 95%\n",
        "#hisorical\n",
        "ES_historical=-portR[portR<=np.percentile(portR,5)].mean()\n",
        "\n",
        "##normal method\n",
        "ES_norm=(mu_p+sigma_p*stats.norm.pdf(z05)/alpha)\n",
        "print(ES_historical,ES_norm)"
      ],
      "metadata": {
        "id": "4JXjasE1et41",
        "colab": {
          "base_uri": "https://localhost:8080/"
        },
        "outputId": "0972a9fa-b02a-4de2-e77b-84717ebe06c6"
      },
      "execution_count": 63,
      "outputs": [
        {
          "output_type": "stream",
          "name": "stdout",
          "text": [
            "0.04229930509930111 0.004432334806622952\n"
          ]
        }
      ]
    },
    {
      "cell_type": "markdown",
      "source": [
        "#Backtesting VaR (Actual vs Expected Loss Events)\n",
        "\n",
        "\n",
        "---\n",
        "\n",
        "Calculates rolling VaR for each day (using 1-day rolling window).\n",
        "\n",
        "exc: Checks how many times actual loss exceeded VaR.\n",
        "\n",
        "Expected: ~5% exceedance if VaR is accurate.\n",
        "\n",
        "---\n",
        "\n"
      ],
      "metadata": {
        "id": "VTqMJJ4AQaa2"
      }
    },
    {
      "cell_type": "code",
      "source": [
        "var_series=-(portR.rolling(1).mean()*portR.rolling(1).std()*z05)\n",
        "#Normal distribution vaR\n",
        "exc=portR<-vaR_norm\n",
        "num_exc=exc.sum()\n",
        "total=len(portR)\n",
        "print(num_exc/total)"
      ],
      "metadata": {
        "colab": {
          "base_uri": "https://localhost:8080/"
        },
        "id": "m9cSg9rlJ1lN",
        "outputId": "48c94595-5007-4565-f540-213a0c41b6c9"
      },
      "execution_count": 64,
      "outputs": [
        {
          "output_type": "stream",
          "name": "stdout",
          "text": [
            "0.9616236162361623\n"
          ]
        }
      ]
    },
    {
      "cell_type": "markdown",
      "source": [
        "## Rolling Historical VaR Plot\n",
        "\n",
        "\n",
        "---\n",
        "\n",
        "Uses 60-day rolling window to calculate historical VaR dynamically.\n",
        "\n",
        "Plots rolling 5th percentile vs constant parametric VaR.\n",
        "\n",
        "---\n",
        "\n"
      ],
      "metadata": {
        "id": "ZK2x8Kv-gNi9"
      }
    },
    {
      "cell_type": "code",
      "source": [
        "window=60\n",
        "roll_var=portR.rolling(window).quantile(0.05).dropna()\n",
        "plt.plot(-roll_var)\n",
        "plt.axhline(-vaR_norm,color='r',linestyle='--')\n",
        "plt.show()"
      ],
      "metadata": {
        "colab": {
          "base_uri": "https://localhost:8080/",
          "height": 430
        },
        "id": "_GH958YgRUWo",
        "outputId": "81b750cb-9d72-4135-ee7c-a16481d5d54d"
      },
      "execution_count": 65,
      "outputs": [
        {
          "output_type": "display_data",
          "data": {
            "text/plain": [
              "<Figure size 640x480 with 1 Axes>"
            ],
            "image/png": "[encoded data removed]"
          },
          "metadata": {}
        }
      ]
    },
    {
      "cell_type": "markdown",
      "source": [
        "## Normality Test of Portfolio Returns(Jarque-Bera test)\n",
        "\n",
        "\n",
        "---\n",
        "\n",
        "Jarque-Bera Test checks if returns are normally distributed.\n",
        "\n",
        "Null Hypothesis (H₀): Data is normally distributed.\n",
        "\n",
        "If p < 0.05: reject H₀ → returns are not normal (bad for parametric VaR).\n",
        "\n",
        "---\n",
        "\n",
        "\n",
        "\n"
      ],
      "metadata": {
        "id": "sBZWQV04VkvD"
      }
    },
    {
      "cell_type": "code",
      "source": [
        "jb_stat,jb_p=stats.jarque_bera(portR)\n",
        "print(jb_stat,jb_p)\n",
        "if jb_p<0.05:\n",
        "  print(\"Reject the null hypothesis\")\n",
        "else:\n",
        "  print(\"Fail to reject the null hypothesis\")"
      ],
      "metadata": {
        "colab": {
          "base_uri": "https://localhost:8080/"
        },
        "id": "YYiBSfskVdyU",
        "outputId": "422e7470-3068-41f1-aee9-29d32c65f9a8"
      },
      "execution_count": 66,
      "outputs": [
        {
          "output_type": "stream",
          "name": "stdout",
          "text": [
            "1190.1913096186183 3.5747107942082975e-259\n",
            "Reject the null hypothesis\n"
          ]
        }
      ]
    },
    {
      "cell_type": "markdown",
      "source": [
        "#Portfolio VaR & Risk Analysis – Summary\n",
        " 1. Log Returns Calculation\n",
        "\n",
        "Why?: Log returns are additive and better for modeling.\n",
        "\n",
        "How?: np.log(price / price.shift(1))\n",
        "\n",
        " 2. Portfolio Return\n",
        "Computed weighted average of asset returns using portfolio weights.\n",
        "\n",
        " 3. VaR (Value at Risk) Estimation\n",
        "Parametric (Normal): Assumes normal distribution of returns.\n",
        "\n",
        "t-Distribution: More realistic, allows for fat tails.\n",
        "\n",
        "Historical: Uses actual past returns, no distribution assumed.\n",
        "\n",
        " 4. Bootstrapping VaR\n",
        "Simulates thousands of return samples to estimate VaR more robustly.\n",
        "\n",
        " 5. Hypothesis Testing\n",
        "Used t-test to check if portfolio returns are significantly different from 0.\n",
        "\n",
        " 6. Correlation & Diversification\n",
        "Checked correlation between assets to understand diversification benefit.\n",
        "\n",
        "Less correlation = better diversification = lower risk.\n",
        "\n",
        " 7. Drawdown & Maximum Drawdown\n",
        "Drawdown: Drop from peak value.\n",
        "\n",
        "Max Drawdown: Worst drop — tells you how bad losses got.\n",
        "\n",
        " 8. Expected Shortfall (ES)\n",
        "Tells you the average loss beyond the VaR threshold (i.e., worst-case scenario).\n",
        "\n",
        " 9. VaR Backtesting\n",
        "Checked how often actual losses exceeded predicted VaR.\n",
        "\n",
        "If exceedances > 5%, VaR might be underestimating risk.\n",
        "\n",
        " 10. Rolling Historical VaR\n",
        "Visualized how historical VaR (5% quantile) changes over time using a 60-day window.\n",
        "\n",
        " 11. Normality Test (Jarque-Bera)\n",
        "Tested if returns follow normal distribution.\n",
        "\n",
        "Often rejected, which justifies using t-distribution or historical methods.\n",
        "\n",
        "\n",
        "\n",
        "\n"
      ],
      "metadata": {
        "id": "lPc2yINIghYe"
      }
    }
  ]
}