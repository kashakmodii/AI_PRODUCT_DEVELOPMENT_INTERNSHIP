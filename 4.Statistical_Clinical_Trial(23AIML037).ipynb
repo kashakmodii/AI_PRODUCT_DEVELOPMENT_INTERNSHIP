{
  "nbformat": 4,
  "nbformat_minor": 0,
  "metadata": {
    "colab": {
      "provenance": []
    },
    "kernelspec": {
      "name": "python3",
      "display_name": "Python 3"
    },
    "language_info": {
      "name": "python"
    }
  },
  "cells": [
    {
      "cell_type": "markdown",
      "source": [
        "## Clinical-Trial Survival Analysis for Treatment Efficiency"
      ],
      "metadata": {
        "id": "VfX775smQHkZ"
      }
    },
    {
      "cell_type": "markdown",
      "source": [
        "## Theoretical Description\n",
        "This project focuses on survival analysis in clinical trials to evaluate treatment effectiveness by analyzing time-to-event data, such as time until death. It applies statistical methods like Kaplan–Meier survival curves to visualize survival probabilities over time and uses the Log-Rank Test to compare different treatment groups. The  Cox Proportional Hazards Model  and its extensions, including time-varying covariates, stratified models, and competing risks models, are employed to explore more complex real-world scenarios where patient conditions change over time, risk patterns vary among individuals, and multiple outcomes are possible. This comprehensive analysis helps determine whether one treatment outperforms another and provides deeper insights into patient survival under different clinical interventions.\n"
      ],
      "metadata": {
        "id": "97JZUVz4Kp_8"
      }
    },
    {
      "cell_type": "markdown",
      "source": [
        "lifelines Python package is a library used for survival analysis."
      ],
      "metadata": {
        "id": "ZD4WoaAYvL1G"
      }
    },
    {
      "cell_type": "code",
      "source": [
        "!pip install lifelines --quiet"
      ],
      "metadata": {
        "id": "HxvYYjFIWVuZ",
        "colab": {
          "base_uri": "https://localhost:8080/"
        },
        "outputId": "9fdc5bb8-5924-4a93-d71e-e7d5ea192b0e"
      },
      "execution_count": null,
      "outputs": [
        {
          "output_type": "stream",
          "name": "stdout",
          "text": [
            "  Preparing metadata (setup.py) ... \u001b[?25l\u001b[?25hdone\n",
            "\u001b[2K   \u001b[90m━━━━━━━━━━━━━━━━━━━━━━━━━━━━━━━━━━━━━━━━\u001b[0m \u001b[32m349.3/349.3 kB\u001b[0m \u001b[31m3.5 MB/s\u001b[0m eta \u001b[36m0:00:00\u001b[0m\n",
            "\u001b[2K   \u001b[90m━━━━━━━━━━━━━━━━━━━━━━━━━━━━━━━━━━━━━━━━\u001b[0m \u001b[32m115.7/115.7 kB\u001b[0m \u001b[31m3.9 MB/s\u001b[0m eta \u001b[36m0:00:00\u001b[0m\n",
            "\u001b[?25h  Building wheel for autograd-gamma (setup.py) ... \u001b[?25l\u001b[?25hdone\n"
          ]
        }
      ]
    },
    {
      "cell_type": "markdown",
      "source": [
        "\n",
        "\n",
        "---\n",
        "\n",
        "lifelines package: KaplanMeierFitter for non-parametric survival curves, CoxPHFitter for regression analysis on survival data, and logrank_test to statistically compare survival functions.\n",
        "\n",
        "---\n",
        "\n"
      ],
      "metadata": {
        "id": "lxMzyyC8vU2k"
      }
    },
    {
      "cell_type": "code",
      "execution_count": null,
      "metadata": {
        "id": "_6oQJQjfP8If"
      },
      "outputs": [],
      "source": [
        "from lifelines import KaplanMeierFitter,CoxPHFitter\n",
        "from lifelines.statistics import logrank_test\n",
        "import pandas as pd\n",
        "import numpy as np\n",
        "import matplotlib.pyplot as plt\n",
        "import seaborn as sns"
      ]
    },
    {
      "cell_type": "code",
      "source": [
        "df=pd.read_csv('https://samatrix-data.s3.ap-south-1.amazonaws.com/Statistics-Project/veteran.csv')\n",
        "df"
      ],
      "metadata": {
        "colab": {
          "base_uri": "https://localhost:8080/",
          "height": 423
        },
        "id": "ZpSVMAsIZlxR",
        "outputId": "8b0d115f-b598-448d-c254-fa06192f41d9"
      },
      "execution_count": null,
      "outputs": [
        {
          "output_type": "execute_result",
          "data": {
            "text/plain": [
              "      ID  TIME  Y       trt  celltype  karno  diagtime  age priortherapy\n",
              "0      1     0  0  standard  squamous     60         7   69           no\n",
              "1      1    72  1  standard  squamous     60         7   69           no\n",
              "2      2     0  0  standard  squamous     70         5   64          yes\n",
              "3      2   411  1  standard  squamous     70         5   64          yes\n",
              "4      3     0  0  standard  squamous     60         3   38           no\n",
              "..   ...   ... ..       ...       ...    ...       ...  ...          ...\n",
              "269  135   231  1      test     large     70        18   67          yes\n",
              "270  136     0  0      test     large     80         4   65           no\n",
              "271  136   378  1      test     large     80         4   65           no\n",
              "272  137     0  0      test     large     30         3   37           no\n",
              "273  137    49  1      test     large     30         3   37           no\n",
              "\n",
              "[274 rows x 9 columns]"
            ],
            "text/html": [
              "\n",
              "  <div id=\"df-c7076412-b877-4a12-890d-ea1bf2caa21b\" class=\"colab-df-container\">\n",
              "    <div>\n",
              "<style scoped>\n",
              "    .dataframe tbody tr th:only-of-type {\n",
              "        vertical-align: middle;\n",
              "    }\n",
              "\n",
              "    .dataframe tbody tr th {\n",
              "        vertical-align: top;\n",
              "    }\n",
              "\n",
              "    .dataframe thead th {\n",
              "        text-align: right;\n",
              "    }\n",
              "</style>\n",
              "<table border=\"1\" class=\"dataframe\">\n",
              "  <thead>\n",
              "    <tr style=\"text-align: right;\">\n",
              "      <th></th>\n",
              "      <th>ID</th>\n",
              "      <th>TIME</th>\n",
              "      <th>Y</th>\n",
              "      <th>trt</th>\n",
              "      <th>celltype</th>\n",
              "      <th>karno</th>\n",
              "      <th>diagtime</th>\n",
              "      <th>age</th>\n",
              "      <th>priortherapy</th>\n",
              "    </tr>\n",
              "  </thead>\n",
              "  <tbody>\n",
              "    <tr>\n",
              "      <th>0</th>\n",
              "      <td>1</td>\n",
              "      <td>0</td>\n",
              "      <td>0</td>\n",
              "      <td>standard</td>\n",
              "      <td>squamous</td>\n",
              "      <td>60</td>\n",
              "      <td>7</td>\n",
              "      <td>69</td>\n",
              "      <td>no</td>\n",
              "    </tr>\n",
              "    <tr>\n",
              "      <th>1</th>\n",
              "      <td>1</td>\n",
              "      <td>72</td>\n",
              "      <td>1</td>\n",
              "      <td>standard</td>\n",
              "      <td>squamous</td>\n",
              "      <td>60</td>\n",
              "      <td>7</td>\n",
              "      <td>69</td>\n",
              "      <td>no</td>\n",
              "    </tr>\n",
              "    <tr>\n",
              "      <th>2</th>\n",
              "      <td>2</td>\n",
              "      <td>0</td>\n",
              "      <td>0</td>\n",
              "      <td>standard</td>\n",
              "      <td>squamous</td>\n",
              "      <td>70</td>\n",
              "      <td>5</td>\n",
              "      <td>64</td>\n",
              "      <td>yes</td>\n",
              "    </tr>\n",
              "    <tr>\n",
              "      <th>3</th>\n",
              "      <td>2</td>\n",
              "      <td>411</td>\n",
              "      <td>1</td>\n",
              "      <td>standard</td>\n",
              "      <td>squamous</td>\n",
              "      <td>70</td>\n",
              "      <td>5</td>\n",
              "      <td>64</td>\n",
              "      <td>yes</td>\n",
              "    </tr>\n",
              "    <tr>\n",
              "      <th>4</th>\n",
              "      <td>3</td>\n",
              "      <td>0</td>\n",
              "      <td>0</td>\n",
              "      <td>standard</td>\n",
              "      <td>squamous</td>\n",
              "      <td>60</td>\n",
              "      <td>3</td>\n",
              "      <td>38</td>\n",
              "      <td>no</td>\n",
              "    </tr>\n",
              "    <tr>\n",
              "      <th>...</th>\n",
              "      <td>...</td>\n",
              "      <td>...</td>\n",
              "      <td>...</td>\n",
              "      <td>...</td>\n",
              "      <td>...</td>\n",
              "      <td>...</td>\n",
              "      <td>...</td>\n",
              "      <td>...</td>\n",
              "      <td>...</td>\n",
              "    </tr>\n",
              "    <tr>\n",
              "      <th>269</th>\n",
              "      <td>135</td>\n",
              "      <td>231</td>\n",
              "      <td>1</td>\n",
              "      <td>test</td>\n",
              "      <td>large</td>\n",
              "      <td>70</td>\n",
              "      <td>18</td>\n",
              "      <td>67</td>\n",
              "      <td>yes</td>\n",
              "    </tr>\n",
              "    <tr>\n",
              "      <th>270</th>\n",
              "      <td>136</td>\n",
              "      <td>0</td>\n",
              "      <td>0</td>\n",
              "      <td>test</td>\n",
              "      <td>large</td>\n",
              "      <td>80</td>\n",
              "      <td>4</td>\n",
              "      <td>65</td>\n",
              "      <td>no</td>\n",
              "    </tr>\n",
              "    <tr>\n",
              "      <th>271</th>\n",
              "      <td>136</td>\n",
              "      <td>378</td>\n",
              "      <td>1</td>\n",
              "      <td>test</td>\n",
              "      <td>large</td>\n",
              "      <td>80</td>\n",
              "      <td>4</td>\n",
              "      <td>65</td>\n",
              "      <td>no</td>\n",
              "    </tr>\n",
              "    <tr>\n",
              "      <th>272</th>\n",
              "      <td>137</td>\n",
              "      <td>0</td>\n",
              "      <td>0</td>\n",
              "      <td>test</td>\n",
              "      <td>large</td>\n",
              "      <td>30</td>\n",
              "      <td>3</td>\n",
              "      <td>37</td>\n",
              "      <td>no</td>\n",
              "    </tr>\n",
              "    <tr>\n",
              "      <th>273</th>\n",
              "      <td>137</td>\n",
              "      <td>49</td>\n",
              "      <td>1</td>\n",
              "      <td>test</td>\n",
              "      <td>large</td>\n",
              "      <td>30</td>\n",
              "      <td>3</td>\n",
              "      <td>37</td>\n",
              "      <td>no</td>\n",
              "    </tr>\n",
              "  </tbody>\n",
              "</table>\n",
              "<p>274 rows × 9 columns</p>\n",
              "</div>\n",
              "    <div class=\"colab-df-buttons\">\n",
              "\n",
              "  <div class=\"colab-df-container\">\n",
              "    <button class=\"colab-df-convert\" onclick=\"convertToInteractive('df-c7076412-b877-4a12-890d-ea1bf2caa21b')\"\n",
              "            title=\"Convert this dataframe to an interactive table.\"\n",
              "            style=\"display:none;\">\n",
              "\n",
              "  <svg xmlns=\"http://www.w3.org/2000/svg\" height=\"24px\" viewBox=\"0 -960 960 960\">\n",
              "    <path d=\"M120-120v-720h720v720H120Zm60-500h600v-160H180v160Zm220 220h160v-160H400v160Zm0 220h160v-160H400v160ZM180-400h160v-160H180v160Zm440 0h160v-160H620v160ZM180-180h160v-160H180v160Zm440 0h160v-160H620v160Z\"/>\n",
              "  </svg>\n",
              "    </button>\n",
              "\n",
              "  <style>\n",
              "    .colab-df-container {\n",
              "      display:flex;\n",
              "      gap: 12px;\n",
              "    }\n",
              "\n",
              "    .colab-df-convert {\n",
              "      background-color: #E8F0FE;\n",
              "      border: none;\n",
              "      border-radius: 50%;\n",
              "      cursor: pointer;\n",
              "      display: none;\n",
              "      fill: #1967D2;\n",
              "      height: 32px;\n",
              "      padding: 0 0 0 0;\n",
              "      width: 32px;\n",
              "    }\n",
              "\n",
              "    .colab-df-convert:hover {\n",
              "      background-color: #E2EBFA;\n",
              "      box-shadow: 0px 1px 2px rgba(60, 64, 67, 0.3), 0px 1px 3px 1px rgba(60, 64, 67, 0.15);\n",
              "      fill: #174EA6;\n",
              "    }\n",
              "\n",
              "    .colab-df-buttons div {\n",
              "      margin-bottom: 4px;\n",
              "    }\n",
              "\n",
              "    [theme=dark] .colab-df-convert {\n",
              "      background-color: #3B4455;\n",
              "      fill: #D2E3FC;\n",
              "    }\n",
              "\n",
              "    [theme=dark] .colab-df-convert:hover {\n",
              "      background-color: #434B5C;\n",
              "      box-shadow: 0px 1px 3px 1px rgba(0, 0, 0, 0.15);\n",
              "      filter: drop-shadow(0px 1px 2px rgba(0, 0, 0, 0.3));\n",
              "      fill: #FFFFFF;\n",
              "    }\n",
              "  </style>\n",
              "\n",
              "    <script>\n",
              "      const buttonEl =\n",
              "        document.querySelector('#df-c7076412-b877-4a12-890d-ea1bf2caa21b button.colab-df-convert');\n",
              "      buttonEl.style.display =\n",
              "        google.colab.kernel.accessAllowed ? 'block' : 'none';\n",
              "\n",
              "      async function convertToInteractive(key) {\n",
              "        const element = document.querySelector('#df-c7076412-b877-4a12-890d-ea1bf2caa21b');\n",
              "        const dataTable =\n",
              "          await google.colab.kernel.invokeFunction('convertToInteractive',\n",
              "                                                    [key], {});\n",
              "        if (!dataTable) return;\n",
              "\n",
              "        const docLinkHtml = 'Like what you see? Visit the ' +\n",
              "          '<a target=\"_blank\" href=https://colab.research.google.com/notebooks/data_table.ipynb>data table notebook</a>'\n",
              "          + ' to learn more about interactive tables.';\n",
              "        element.innerHTML = '';\n",
              "        dataTable['output_type'] = 'display_data';\n",
              "        await google.colab.output.renderOutput(dataTable, element);\n",
              "        const docLink = document.createElement('div');\n",
              "        docLink.innerHTML = docLinkHtml;\n",
              "        element.appendChild(docLink);\n",
              "      }\n",
              "    </script>\n",
              "  </div>\n",
              "\n",
              "\n",
              "    <div id=\"df-da0b32e7-cdb3-4d6f-83c4-3ed18a76d173\">\n",
              "      <button class=\"colab-df-quickchart\" onclick=\"quickchart('df-da0b32e7-cdb3-4d6f-83c4-3ed18a76d173')\"\n",
              "                title=\"Suggest charts\"\n",
              "                style=\"display:none;\">\n",
              "\n",
              "<svg xmlns=\"http://www.w3.org/2000/svg\" height=\"24px\"viewBox=\"0 0 24 24\"\n",
              "     width=\"24px\">\n",
              "    <g>\n",
              "        <path d=\"M19 3H5c-1.1 0-2 .9-2 2v14c0 1.1.9 2 2 2h14c1.1 0 2-.9 2-2V5c0-1.1-.9-2-2-2zM9 17H7v-7h2v7zm4 0h-2V7h2v10zm4 0h-2v-4h2v4z\"/>\n",
              "    </g>\n",
              "</svg>\n",
              "      </button>\n",
              "\n",
              "<style>\n",
              "  .colab-df-quickchart {\n",
              "      --bg-color: #E8F0FE;\n",
              "      --fill-color: #1967D2;\n",
              "      --hover-bg-color: #E2EBFA;\n",
              "      --hover-fill-color: #174EA6;\n",
              "      --disabled-fill-color: #AAA;\n",
              "      --disabled-bg-color: #DDD;\n",
              "  }\n",
              "\n",
              "  [theme=dark] .colab-df-quickchart {\n",
              "      --bg-color: #3B4455;\n",
              "      --fill-color: #D2E3FC;\n",
              "      --hover-bg-color: #434B5C;\n",
              "      --hover-fill-color: #FFFFFF;\n",
              "      --disabled-bg-color: #3B4455;\n",
              "      --disabled-fill-color: #666;\n",
              "  }\n",
              "\n",
              "  .colab-df-quickchart {\n",
              "    background-color: var(--bg-color);\n",
              "    border: none;\n",
              "    border-radius: 50%;\n",
              "    cursor: pointer;\n",
              "    display: none;\n",
              "    fill: var(--fill-color);\n",
              "    height: 32px;\n",
              "    padding: 0;\n",
              "    width: 32px;\n",
              "  }\n",
              "\n",
              "  .colab-df-quickchart:hover {\n",
              "    background-color: var(--hover-bg-color);\n",
              "    box-shadow: 0 1px 2px rgba(60, 64, 67, 0.3), 0 1px 3px 1px rgba(60, 64, 67, 0.15);\n",
              "    fill: var(--button-hover-fill-color);\n",
              "  }\n",
              "\n",
              "  .colab-df-quickchart-complete:disabled,\n",
              "  .colab-df-quickchart-complete:disabled:hover {\n",
              "    background-color: var(--disabled-bg-color);\n",
              "    fill: var(--disabled-fill-color);\n",
              "    box-shadow: none;\n",
              "  }\n",
              "\n",
              "  .colab-df-spinner {\n",
              "    border: 2px solid var(--fill-color);\n",
              "    border-color: transparent;\n",
              "    border-bottom-color: var(--fill-color);\n",
              "    animation:\n",
              "      spin 1s steps(1) infinite;\n",
              "  }\n",
              "\n",
              "  @keyframes spin {\n",
              "    0% {\n",
              "      border-color: transparent;\n",
              "      border-bottom-color: var(--fill-color);\n",
              "      border-left-color: var(--fill-color);\n",
              "    }\n",
              "    20% {\n",
              "      border-color: transparent;\n",
              "      border-left-color: var(--fill-color);\n",
              "      border-top-color: var(--fill-color);\n",
              "    }\n",
              "    30% {\n",
              "      border-color: transparent;\n",
              "      border-left-color: var(--fill-color);\n",
              "      border-top-color: var(--fill-color);\n",
              "      border-right-color: var(--fill-color);\n",
              "    }\n",
              "    40% {\n",
              "      border-color: transparent;\n",
              "      border-right-color: var(--fill-color);\n",
              "      border-top-color: var(--fill-color);\n",
              "    }\n",
              "    60% {\n",
              "      border-color: transparent;\n",
              "      border-right-color: var(--fill-color);\n",
              "    }\n",
              "    80% {\n",
              "      border-color: transparent;\n",
              "      border-right-color: var(--fill-color);\n",
              "      border-bottom-color: var(--fill-color);\n",
              "    }\n",
              "    90% {\n",
              "      border-color: transparent;\n",
              "      border-bottom-color: var(--fill-color);\n",
              "    }\n",
              "  }\n",
              "</style>\n",
              "\n",
              "      <script>\n",
              "        async function quickchart(key) {\n",
              "          const quickchartButtonEl =\n",
              "            document.querySelector('#' + key + ' button');\n",
              "          quickchartButtonEl.disabled = true;  // To prevent multiple clicks.\n",
              "          quickchartButtonEl.classList.add('colab-df-spinner');\n",
              "          try {\n",
              "            const charts = await google.colab.kernel.invokeFunction(\n",
              "                'suggestCharts', [key], {});\n",
              "          } catch (error) {\n",
              "            console.error('Error during call to suggestCharts:', error);\n",
              "          }\n",
              "          quickchartButtonEl.classList.remove('colab-df-spinner');\n",
              "          quickchartButtonEl.classList.add('colab-df-quickchart-complete');\n",
              "        }\n",
              "        (() => {\n",
              "          let quickchartButtonEl =\n",
              "            document.querySelector('#df-da0b32e7-cdb3-4d6f-83c4-3ed18a76d173 button');\n",
              "          quickchartButtonEl.style.display =\n",
              "            google.colab.kernel.accessAllowed ? 'block' : 'none';\n",
              "        })();\n",
              "      </script>\n",
              "    </div>\n",
              "\n",
              "  <div id=\"id_585fbae3-85eb-467a-8a48-bbc3356d96f5\">\n",
              "    <style>\n",
              "      .colab-df-generate {\n",
              "        background-color: #E8F0FE;\n",
              "        border: none;\n",
              "        border-radius: 50%;\n",
              "        cursor: pointer;\n",
              "        display: none;\n",
              "        fill: #1967D2;\n",
              "        height: 32px;\n",
              "        padding: 0 0 0 0;\n",
              "        width: 32px;\n",
              "      }\n",
              "\n",
              "      .colab-df-generate:hover {\n",
              "        background-color: #E2EBFA;\n",
              "        box-shadow: 0px 1px 2px rgba(60, 64, 67, 0.3), 0px 1px 3px 1px rgba(60, 64, 67, 0.15);\n",
              "        fill: #174EA6;\n",
              "      }\n",
              "\n",
              "      [theme=dark] .colab-df-generate {\n",
              "        background-color: #3B4455;\n",
              "        fill: #D2E3FC;\n",
              "      }\n",
              "\n",
              "      [theme=dark] .colab-df-generate:hover {\n",
              "        background-color: #434B5C;\n",
              "        box-shadow: 0px 1px 3px 1px rgba(0, 0, 0, 0.15);\n",
              "        filter: drop-shadow(0px 1px 2px rgba(0, 0, 0, 0.3));\n",
              "        fill: #FFFFFF;\n",
              "      }\n",
              "    </style>\n",
              "    <button class=\"colab-df-generate\" onclick=\"generateWithVariable('df')\"\n",
              "            title=\"Generate code using this dataframe.\"\n",
              "            style=\"display:none;\">\n",
              "\n",
              "  <svg xmlns=\"http://www.w3.org/2000/svg\" height=\"24px\"viewBox=\"0 0 24 24\"\n",
              "       width=\"24px\">\n",
              "    <path d=\"M7,19H8.4L18.45,9,17,7.55,7,17.6ZM5,21V16.75L18.45,3.32a2,2,0,0,1,2.83,0l1.4,1.43a1.91,1.91,0,0,1,.58,1.4,1.91,1.91,0,0,1-.58,1.4L9.25,21ZM18.45,9,17,7.55Zm-12,3A5.31,5.31,0,0,0,4.9,8.1,5.31,5.31,0,0,0,1,6.5,5.31,5.31,0,0,0,4.9,4.9,5.31,5.31,0,0,0,6.5,1,5.31,5.31,0,0,0,8.1,4.9,5.31,5.31,0,0,0,12,6.5,5.46,5.46,0,0,0,6.5,12Z\"/>\n",
              "  </svg>\n",
              "    </button>\n",
              "    <script>\n",
              "      (() => {\n",
              "      const buttonEl =\n",
              "        document.querySelector('#id_585fbae3-85eb-467a-8a48-bbc3356d96f5 button.colab-df-generate');\n",
              "      buttonEl.style.display =\n",
              "        google.colab.kernel.accessAllowed ? 'block' : 'none';\n",
              "\n",
              "      buttonEl.onclick = () => {\n",
              "        google.colab.notebook.generateWithVariable('df');\n",
              "      }\n",
              "      })();\n",
              "    </script>\n",
              "  </div>\n",
              "\n",
              "    </div>\n",
              "  </div>\n"
            ],
            "application/vnd.google.colaboratory.intrinsic+json": {
              "type": "dataframe",
              "variable_name": "df",
              "summary": "{\n  \"name\": \"df\",\n  \"rows\": 274,\n  \"fields\": [\n    {\n      \"column\": \"ID\",\n      \"properties\": {\n        \"dtype\": \"number\",\n        \"std\": 39,\n        \"min\": 1,\n        \"max\": 137,\n        \"num_unique_values\": 137,\n        \"samples\": [\n          106,\n          105,\n          13\n        ],\n        \"semantic_type\": \"\",\n        \"description\": \"\"\n      }\n    },\n    {\n      \"column\": \"TIME\",\n      \"properties\": {\n        \"dtype\": \"number\",\n        \"std\": 126,\n        \"min\": 0,\n        \"max\": 999,\n        \"num_unique_values\": 102,\n        \"samples\": [\n          21,\n          991,\n          999\n        ],\n        \"semantic_type\": \"\",\n        \"description\": \"\"\n      }\n    },\n    {\n      \"column\": \"Y\",\n      \"properties\": {\n        \"dtype\": \"number\",\n        \"std\": 0,\n        \"min\": 0,\n        \"max\": 1,\n        \"num_unique_values\": 2,\n        \"samples\": [\n          1,\n          0\n        ],\n        \"semantic_type\": \"\",\n        \"description\": \"\"\n      }\n    },\n    {\n      \"column\": \"trt\",\n      \"properties\": {\n        \"dtype\": \"category\",\n        \"num_unique_values\": 2,\n        \"samples\": [\n          \"test\",\n          \"standard\"\n        ],\n        \"semantic_type\": \"\",\n        \"description\": \"\"\n      }\n    },\n    {\n      \"column\": \"celltype\",\n      \"properties\": {\n        \"dtype\": \"category\",\n        \"num_unique_values\": 4,\n        \"samples\": [\n          \"smallcell\",\n          \"large\"\n        ],\n        \"semantic_type\": \"\",\n        \"description\": \"\"\n      }\n    },\n    {\n      \"column\": \"karno\",\n      \"properties\": {\n        \"dtype\": \"number\",\n        \"std\": 20,\n        \"min\": 10,\n        \"max\": 99,\n        \"num_unique_values\": 12,\n        \"samples\": [\n          99,\n          85\n        ],\n        \"semantic_type\": \"\",\n        \"description\": \"\"\n      }\n    },\n    {\n      \"column\": \"diagtime\",\n      \"properties\": {\n        \"dtype\": \"number\",\n        \"std\": 10,\n        \"min\": 1,\n        \"max\": 87,\n        \"num_unique_values\": 28,\n        \"samples\": [\n          4,\n          22\n        ],\n        \"semantic_type\": \"\",\n        \"description\": \"\"\n      }\n    },\n    {\n      \"column\": \"age\",\n      \"properties\": {\n        \"dtype\": \"number\",\n        \"std\": 10,\n        \"min\": 34,\n        \"max\": 81,\n        \"num_unique_values\": 40,\n        \"samples\": [\n          53,\n          55\n        ],\n        \"semantic_type\": \"\",\n        \"description\": \"\"\n      }\n    },\n    {\n      \"column\": \"priortherapy\",\n      \"properties\": {\n        \"dtype\": \"category\",\n        \"num_unique_values\": 2,\n        \"samples\": [\n          \"yes\",\n          \"no\"\n        ],\n        \"semantic_type\": \"\",\n        \"description\": \"\"\n      }\n    }\n  ]\n}"
            }
          },
          "metadata": {},
          "execution_count": 3
        }
      ]
    },
    {
      "cell_type": "code",
      "source": [
        "df.info()"
      ],
      "metadata": {
        "colab": {
          "base_uri": "https://localhost:8080/"
        },
        "id": "CA8rncj_ePOg",
        "outputId": "a3fcd007-4b44-4b0b-bbc6-aa25ddaf0812"
      },
      "execution_count": null,
      "outputs": [
        {
          "output_type": "stream",
          "name": "stdout",
          "text": [
            "<class 'pandas.core.frame.DataFrame'>\n",
            "RangeIndex: 274 entries, 0 to 273\n",
            "Data columns (total 9 columns):\n",
            " #   Column        Non-Null Count  Dtype \n",
            "---  ------        --------------  ----- \n",
            " 0   ID            274 non-null    int64 \n",
            " 1   TIME          274 non-null    int64 \n",
            " 2   Y             274 non-null    int64 \n",
            " 3   trt           274 non-null    object\n",
            " 4   celltype      274 non-null    object\n",
            " 5   karno         274 non-null    int64 \n",
            " 6   diagtime      274 non-null    int64 \n",
            " 7   age           274 non-null    int64 \n",
            " 8   priortherapy  274 non-null    object\n",
            "dtypes: int64(6), object(3)\n",
            "memory usage: 19.4+ KB\n"
          ]
        }
      ]
    },
    {
      "cell_type": "markdown",
      "source": [
        "## Kaplan-Meier Method"
      ],
      "metadata": {
        "id": "MuHzIedsf7J9"
      }
    },
    {
      "cell_type": "markdown",
      "source": [
        "\n",
        "\n",
        "---\n",
        "\n",
        "The Kaplan-Meier method is a way to show how long people stay free from an event (death), over time. It makes a step-like graph that shows the chance of surviving at different times. It also works even if some people stop being tracked or do not have the event. This method is useful for comparing how well different treatments work.\n",
        "\n",
        "\n",
        "---\n",
        "\n"
      ],
      "metadata": {
        "id": "jLUtg40dxUOO"
      }
    },
    {
      "cell_type": "markdown",
      "source": [
        "KaplanMeierFitter use to create a survival model. It filters the dataset to only include patients where Y == 1. Then it fits the model using time and status columns and plots the survival function for all patients.\n",
        "\n"
      ],
      "metadata": {
        "id": "LdM9bIHl0hki"
      }
    },
    {
      "cell_type": "code",
      "source": [
        "kmf=KaplanMeierFitter()\n",
        "#separate your event(y=1 or y=0)\n",
        "df_event=df[df['Y']==1]\n",
        "\n",
        "#for overall patient curve\n",
        "kmf.fit(durations=df_event['TIME'],event_observed=df_event['Y'])\n",
        "kmf.plot_survival_function()\n",
        "plt.title('Overall Patient curve')\n",
        "plt.show()"
      ],
      "metadata": {
        "id": "RT0G85Z5fczA",
        "colab": {
          "base_uri": "https://localhost:8080/",
          "height": 472
        },
        "outputId": "de0f3aa1-8a25-48bc-f33d-919c3a6387f8"
      },
      "execution_count": null,
      "outputs": [
        {
          "output_type": "display_data",
          "data": {
            "text/plain": [
              "<Figure size 640x480 with 1 Axes>"
            ],
            "image/png": "[encoded data removed]"
          },
          "metadata": {}
        }
      ]
    },
    {
      "cell_type": "markdown",
      "source": [
        "Now it compares survival curves between different treatment groups. It loops through unique treatment values, filters the data accordingly, fits a Kaplan-Meier curve for each group, and plots them to visually compare treatment effectiveness."
      ],
      "metadata": {
        "id": "6Vy_gtPU1Ebh"
      }
    },
    {
      "cell_type": "code",
      "source": [
        "#curve according to treatment group\n",
        "for trt_group in df_event['trt'].unique():\n",
        "  mask=df_event['trt']==trt_group\n",
        "  kmf.fit(df_event[mask]['TIME'],df_event[mask]['Y'],label=trt_group)\n",
        "  kmf.plot_survival_function()\n",
        "plt.grid()\n",
        "plt.title('Treatment group curve')\n",
        "plt.show()"
      ],
      "metadata": {
        "colab": {
          "base_uri": "https://localhost:8080/",
          "height": 472
        },
        "id": "UmqGTku_REty",
        "outputId": "bccb162a-0a53-4988-ac0c-ad387fe82ec8"
      },
      "execution_count": null,
      "outputs": [
        {
          "output_type": "display_data",
          "data": {
            "text/plain": [
              "<Figure size 640x480 with 1 Axes>"
            ],
            "image/png": "[encoded data removed]"
          },
          "metadata": {}
        }
      ]
    },
    {
      "cell_type": "markdown",
      "source": [
        "## Median Survival Time\n",
        "\n",
        "\n",
        "---\n",
        "\n",
        " The median survival time shows how long it takes for half of the patients to experience the event, such as death. It is taken from the Kaplan-Meier survival curve and helps to understand how effective a treatment is. For example, if one group has a longer median survival time than another, it means that group stayed healthier for a longer time.\n",
        "\n",
        "\n",
        "---\n",
        "\n"
      ],
      "metadata": {
        "id": "7NruZcW2ZsPn"
      }
    },
    {
      "cell_type": "markdown",
      "source": [
        "It calculates and prints the median survival time for each treatment group. It uses Kaplan-Meier estimation to fit each group’s survival function and accesses the median survival time attribute to report the result."
      ],
      "metadata": {
        "id": "UoXD8rDK_-at"
      }
    },
    {
      "cell_type": "code",
      "source": [
        "for trt_group in df_event['trt'].unique():\n",
        "  mask=df_event['trt']==trt_group\n",
        "  kmf.fit(df_event[mask]['TIME'],df_event[mask]['Y'],label=str(trt_group)+'median='+str(np.median(df_event[mask]['TIME'])))\n",
        "  print(f\"Median survival time for {trt_group} is {np.median(df_event[mask]['TIME'])}\")"
      ],
      "metadata": {
        "colab": {
          "base_uri": "https://localhost:8080/"
        },
        "id": "b-35oQDqWNiG",
        "outputId": "b55310ee-1a05-44d7-ca20-6816f03aae7f"
      },
      "execution_count": null,
      "outputs": [
        {
          "output_type": "stream",
          "name": "stdout",
          "text": [
            "Median survival time for standard is 93.5\n",
            "Median survival time for test is 51.5\n"
          ]
        }
      ]
    },
    {
      "cell_type": "markdown",
      "source": [
        "## Log-Rank Test\n",
        "\n",
        "\n",
        "---\n",
        "\n",
        " The log-rank test is used to compare the survival times of two or more groups of patients, such as those receiving different treatments. It checks if there is a meaningful difference between the survival curves of the groups. If the result of the test shows a small p-value, it means there is a significant difference in how long the patients survive in each group, helping to decide which treatment works better.\n",
        "\n",
        "\n",
        "---\n",
        "\n"
      ],
      "metadata": {
        "id": "ovh_lAlFgAGX"
      }
    },
    {
      "cell_type": "markdown",
      "source": [
        "In this a log-rank test use to compare the survival times of two treatment groups: \"standard\" and \"test\". It filters the dataset accordingly and uses the logrank_test() function to assess if the differences in survival times are statistically significant. The summary of test results is printed, which typically includes a p-value."
      ],
      "metadata": {
        "id": "qHpoVuDTBDE9"
      }
    },
    {
      "cell_type": "code",
      "source": [
        "from lifelines.statistics import logrank_test\n",
        "group1=df_event[df_event['trt']=='standard']\n",
        "group2=df_event[df_event['trt']=='test']\n",
        "results=logrank_test(group1['TIME'],group2['TIME'],event_observed_A=group1['Y'],event_observed_B=group2['Y'])\n",
        "print(results.summary)"
      ],
      "metadata": {
        "colab": {
          "base_uri": "https://localhost:8080/"
        },
        "id": "kEsk3fdpfu12",
        "outputId": "445a802c-2f70-4c1c-da00-209e9132dc21"
      },
      "execution_count": null,
      "outputs": [
        {
          "output_type": "stream",
          "name": "stdout",
          "text": [
            "   test_statistic        p  -log2(p)\n",
            "0          0.0116  0.91423  0.129371\n"
          ]
        }
      ]
    },
    {
      "cell_type": "markdown",
      "source": [
        "## Cox Proportional Hazards model\n",
        "\n",
        "\n",
        "---\n",
        "\n",
        "Cox Proportional Hazards Model, a commonly used method in survival analysis for assessing the effect of several variables at once on survival time.\n",
        "\n",
        "---\n",
        "\n"
      ],
      "metadata": {
        "id": "NKhGNp3Hlmtg"
      }
    },
    {
      "cell_type": "markdown",
      "source": [
        "It prepares the data for Cox regression analysis. It creates a copy of the filtered event data and encodes categorical variables (trt, celltype, priortherapy) into dummy variables using encoding, which is necessary for regression analysis."
      ],
      "metadata": {
        "id": "hxTb8G1YBuLp"
      }
    },
    {
      "cell_type": "code",
      "source": [
        "from lifelines import CoxPHFitter\n",
        "#prepare wide-formate data: one row per subject\n",
        "df_wide=df_event.copy()\n",
        "#Encode categorical variables\n",
        "df_wide=pd.get_dummies(df_wide,columns=['trt','celltype','priortherapy'],drop_first=True)"
      ],
      "metadata": {
        "id": "u1qr5ahdhweo"
      },
      "execution_count": null,
      "outputs": []
    },
    {
      "cell_type": "markdown",
      "source": [
        "Now it fits the Cox Proportional Hazards model using the prepared dataset. The model is trained with TIME as the duration and Y as the event indicator. The model's summary is printed to show the hazard ratios and statistical significance of each variable. The plot() function visualizes the hazard ratios, where a value >1 indicates increased risk and <1 indicates reduced risk."
      ],
      "metadata": {
        "id": "WKplE_coCBdW"
      }
    },
    {
      "cell_type": "code",
      "source": [
        "cph=CoxPHFitter()\n",
        "cph.fit(df_wide,duration_col='TIME',event_col='Y')\n",
        "cph.print_summary()\n",
        "cph.plot()\n",
        "plt.show()\n",
        "#if hazard score is >1 then higher risk and <1 less risk"
      ],
      "metadata": {
        "colab": {
          "base_uri": "https://localhost:8080/",
          "height": 1000
        },
        "id": "JUzQjEPQpkxf",
        "outputId": "0baaae3a-56ac-4331-e203-a05cdf6b2278"
      },
      "execution_count": null,
      "outputs": [
        {
          "output_type": "display_data",
          "data": {
            "text/plain": [
              "<lifelines.CoxPHFitter: fitted with 128 total observations, 0 right-censored observations>\n",
              "             duration col = 'TIME'\n",
              "                event col = 'Y'\n",
              "      baseline estimation = breslow\n",
              "   number of observations = 128\n",
              "number of events observed = 128\n",
              "   partial log-likelihood = -465.21\n",
              "         time fit was run = 2025-06-05 10:09:01 UTC\n",
              "\n",
              "---\n",
              "                    coef exp(coef)  se(coef)  coef lower 95%  coef upper 95% exp(coef) lower 95% exp(coef) upper 95%\n",
              "covariate                                                                                                           \n",
              "ID                  0.00      1.00      0.01           -0.03            0.03                0.97                1.03\n",
              "karno              -0.03      0.97      0.01           -0.05           -0.02                0.96                0.98\n",
              "diagtime           -0.00      1.00      0.01           -0.02            0.01                0.98                1.01\n",
              "age                -0.01      0.99      0.01           -0.03            0.00                0.97                1.00\n",
              "trt_test            0.16      1.17      1.02           -1.84            2.16                0.16                8.63\n",
              "celltype_large     -0.83      0.43      0.36           -1.53           -0.14                0.22                0.87\n",
              "celltype_smallcell -0.12      0.88      0.38           -0.88            0.63                0.42                1.88\n",
              "celltype_squamous  -0.97      0.38      0.66           -2.27            0.33                0.10                1.38\n",
              "priortherapy_yes    0.18      1.20      0.24           -0.28            0.65                0.76                1.91\n",
              "\n",
              "                    cmp to     z      p  -log2(p)\n",
              "covariate                                        \n",
              "ID                    0.00  0.20   0.84      0.25\n",
              "karno                 0.00 -6.08 <0.005     29.60\n",
              "diagtime              0.00 -0.47   0.63      0.66\n",
              "age                   0.00 -1.54   0.12      3.02\n",
              "trt_test              0.00  0.16   0.88      0.19\n",
              "celltype_large        0.00 -2.34   0.02      5.71\n",
              "celltype_smallcell    0.00 -0.32   0.75      0.42\n",
              "celltype_squamous     0.00 -1.47   0.14      2.82\n",
              "priortherapy_yes      0.00  0.79   0.43      1.21\n",
              "---\n",
              "Concordance = 0.74\n",
              "Partial AIC = 948.43\n",
              "log-likelihood ratio test = 62.38 on 9 df\n",
              "-log2(p) of ll-ratio test = 31.00"
            ],
            "text/html": [
              "<div>\n",
              "<style scoped>\n",
              "    .dataframe tbody tr th:only-of-type {\n",
              "        vertical-align: middle;\n",
              "    }\n",
              "\n",
              "    .dataframe tbody tr th {\n",
              "        vertical-align: top;\n",
              "    }\n",
              "\n",
              "    .dataframe thead th {\n",
              "        text-align: right;\n",
              "    }\n",
              "</style>\n",
              "<table border=\"1\" class=\"dataframe\">\n",
              "  <tbody>\n",
              "    <tr>\n",
              "      <th>model</th>\n",
              "      <td>lifelines.CoxPHFitter</td>\n",
              "    </tr>\n",
              "    <tr>\n",
              "      <th>duration col</th>\n",
              "      <td>'TIME'</td>\n",
              "    </tr>\n",
              "    <tr>\n",
              "      <th>event col</th>\n",
              "      <td>'Y'</td>\n",
              "    </tr>\n",
              "    <tr>\n",
              "      <th>baseline estimation</th>\n",
              "      <td>breslow</td>\n",
              "    </tr>\n",
              "    <tr>\n",
              "      <th>number of observations</th>\n",
              "      <td>128</td>\n",
              "    </tr>\n",
              "    <tr>\n",
              "      <th>number of events observed</th>\n",
              "      <td>128</td>\n",
              "    </tr>\n",
              "    <tr>\n",
              "      <th>partial log-likelihood</th>\n",
              "      <td>-465.21</td>\n",
              "    </tr>\n",
              "    <tr>\n",
              "      <th>time fit was run</th>\n",
              "      <td>2025-06-05 10:09:01 UTC</td>\n",
              "    </tr>\n",
              "  </tbody>\n",
              "</table>\n",
              "</div><table border=\"1\" class=\"dataframe\">\n",
              "  <thead>\n",
              "    <tr style=\"text-align: right;\">\n",
              "      <th style=\"min-width: 12px;\"></th>\n",
              "      <th style=\"min-width: 12px;\">coef</th>\n",
              "      <th style=\"min-width: 12px;\">exp(coef)</th>\n",
              "      <th style=\"min-width: 12px;\">se(coef)</th>\n",
              "      <th style=\"min-width: 12px;\">coef lower 95%</th>\n",
              "      <th style=\"min-width: 12px;\">coef upper 95%</th>\n",
              "      <th style=\"min-width: 12px;\">exp(coef) lower 95%</th>\n",
              "      <th style=\"min-width: 12px;\">exp(coef) upper 95%</th>\n",
              "      <th style=\"min-width: 12px;\">cmp to</th>\n",
              "      <th style=\"min-width: 12px;\">z</th>\n",
              "      <th style=\"min-width: 12px;\">p</th>\n",
              "      <th style=\"min-width: 12px;\">-log2(p)</th>\n",
              "    </tr>\n",
              "  </thead>\n",
              "  <tbody>\n",
              "    <tr>\n",
              "      <th>ID</th>\n",
              "      <td>0.00</td>\n",
              "      <td>1.00</td>\n",
              "      <td>0.01</td>\n",
              "      <td>-0.03</td>\n",
              "      <td>0.03</td>\n",
              "      <td>0.97</td>\n",
              "      <td>1.03</td>\n",
              "      <td>0.00</td>\n",
              "      <td>0.20</td>\n",
              "      <td>0.84</td>\n",
              "      <td>0.25</td>\n",
              "    </tr>\n",
              "    <tr>\n",
              "      <th>karno</th>\n",
              "      <td>-0.03</td>\n",
              "      <td>0.97</td>\n",
              "      <td>0.01</td>\n",
              "      <td>-0.05</td>\n",
              "      <td>-0.02</td>\n",
              "      <td>0.96</td>\n",
              "      <td>0.98</td>\n",
              "      <td>0.00</td>\n",
              "      <td>-6.08</td>\n",
              "      <td>&lt;0.005</td>\n",
              "      <td>29.60</td>\n",
              "    </tr>\n",
              "    <tr>\n",
              "      <th>diagtime</th>\n",
              "      <td>-0.00</td>\n",
              "      <td>1.00</td>\n",
              "      <td>0.01</td>\n",
              "      <td>-0.02</td>\n",
              "      <td>0.01</td>\n",
              "      <td>0.98</td>\n",
              "      <td>1.01</td>\n",
              "      <td>0.00</td>\n",
              "      <td>-0.47</td>\n",
              "      <td>0.63</td>\n",
              "      <td>0.66</td>\n",
              "    </tr>\n",
              "    <tr>\n",
              "      <th>age</th>\n",
              "      <td>-0.01</td>\n",
              "      <td>0.99</td>\n",
              "      <td>0.01</td>\n",
              "      <td>-0.03</td>\n",
              "      <td>0.00</td>\n",
              "      <td>0.97</td>\n",
              "      <td>1.00</td>\n",
              "      <td>0.00</td>\n",
              "      <td>-1.54</td>\n",
              "      <td>0.12</td>\n",
              "      <td>3.02</td>\n",
              "    </tr>\n",
              "    <tr>\n",
              "      <th>trt_test</th>\n",
              "      <td>0.16</td>\n",
              "      <td>1.17</td>\n",
              "      <td>1.02</td>\n",
              "      <td>-1.84</td>\n",
              "      <td>2.16</td>\n",
              "      <td>0.16</td>\n",
              "      <td>8.63</td>\n",
              "      <td>0.00</td>\n",
              "      <td>0.16</td>\n",
              "      <td>0.88</td>\n",
              "      <td>0.19</td>\n",
              "    </tr>\n",
              "    <tr>\n",
              "      <th>celltype_large</th>\n",
              "      <td>-0.83</td>\n",
              "      <td>0.43</td>\n",
              "      <td>0.36</td>\n",
              "      <td>-1.53</td>\n",
              "      <td>-0.14</td>\n",
              "      <td>0.22</td>\n",
              "      <td>0.87</td>\n",
              "      <td>0.00</td>\n",
              "      <td>-2.34</td>\n",
              "      <td>0.02</td>\n",
              "      <td>5.71</td>\n",
              "    </tr>\n",
              "    <tr>\n",
              "      <th>celltype_smallcell</th>\n",
              "      <td>-0.12</td>\n",
              "      <td>0.88</td>\n",
              "      <td>0.38</td>\n",
              "      <td>-0.88</td>\n",
              "      <td>0.63</td>\n",
              "      <td>0.42</td>\n",
              "      <td>1.88</td>\n",
              "      <td>0.00</td>\n",
              "      <td>-0.32</td>\n",
              "      <td>0.75</td>\n",
              "      <td>0.42</td>\n",
              "    </tr>\n",
              "    <tr>\n",
              "      <th>celltype_squamous</th>\n",
              "      <td>-0.97</td>\n",
              "      <td>0.38</td>\n",
              "      <td>0.66</td>\n",
              "      <td>-2.27</td>\n",
              "      <td>0.33</td>\n",
              "      <td>0.10</td>\n",
              "      <td>1.38</td>\n",
              "      <td>0.00</td>\n",
              "      <td>-1.47</td>\n",
              "      <td>0.14</td>\n",
              "      <td>2.82</td>\n",
              "    </tr>\n",
              "    <tr>\n",
              "      <th>priortherapy_yes</th>\n",
              "      <td>0.18</td>\n",
              "      <td>1.20</td>\n",
              "      <td>0.24</td>\n",
              "      <td>-0.28</td>\n",
              "      <td>0.65</td>\n",
              "      <td>0.76</td>\n",
              "      <td>1.91</td>\n",
              "      <td>0.00</td>\n",
              "      <td>0.79</td>\n",
              "      <td>0.43</td>\n",
              "      <td>1.21</td>\n",
              "    </tr>\n",
              "  </tbody>\n",
              "</table><br><div>\n",
              "<style scoped>\n",
              "    .dataframe tbody tr th:only-of-type {\n",
              "        vertical-align: middle;\n",
              "    }\n",
              "\n",
              "    .dataframe tbody tr th {\n",
              "        vertical-align: top;\n",
              "    }\n",
              "\n",
              "    .dataframe thead th {\n",
              "        text-align: right;\n",
              "    }\n",
              "</style>\n",
              "<table border=\"1\" class=\"dataframe\">\n",
              "  <tbody>\n",
              "    <tr>\n",
              "      <th>Concordance</th>\n",
              "      <td>0.74</td>\n",
              "    </tr>\n",
              "    <tr>\n",
              "      <th>Partial AIC</th>\n",
              "      <td>948.43</td>\n",
              "    </tr>\n",
              "    <tr>\n",
              "      <th>log-likelihood ratio test</th>\n",
              "      <td>62.38 on 9 df</td>\n",
              "    </tr>\n",
              "    <tr>\n",
              "      <th>-log2(p) of ll-ratio test</th>\n",
              "      <td>31.00</td>\n",
              "    </tr>\n",
              "  </tbody>\n",
              "</table>\n",
              "</div>"
            ],
            "text/latex": "\\begin{tabular}{lrrrrrrrrrrr}\n & coef & exp(coef) & se(coef) & coef lower 95% & coef upper 95% & exp(coef) lower 95% & exp(coef) upper 95% & cmp to & z & p & -log2(p) \\\\\ncovariate &  &  &  &  &  &  &  &  &  &  &  \\\\\nID & 0.00 & 1.00 & 0.01 & -0.03 & 0.03 & 0.97 & 1.03 & 0.00 & 0.20 & 0.84 & 0.25 \\\\\nkarno & -0.03 & 0.97 & 0.01 & -0.05 & -0.02 & 0.96 & 0.98 & 0.00 & -6.08 & 0.00 & 29.60 \\\\\ndiagtime & -0.00 & 1.00 & 0.01 & -0.02 & 0.01 & 0.98 & 1.01 & 0.00 & -0.47 & 0.63 & 0.66 \\\\\nage & -0.01 & 0.99 & 0.01 & -0.03 & 0.00 & 0.97 & 1.00 & 0.00 & -1.54 & 0.12 & 3.02 \\\\\ntrt_test & 0.16 & 1.17 & 1.02 & -1.84 & 2.16 & 0.16 & 8.63 & 0.00 & 0.16 & 0.88 & 0.19 \\\\\ncelltype_large & -0.83 & 0.43 & 0.36 & -1.53 & -0.14 & 0.22 & 0.87 & 0.00 & -2.34 & 0.02 & 5.71 \\\\\ncelltype_smallcell & -0.12 & 0.88 & 0.38 & -0.88 & 0.63 & 0.42 & 1.88 & 0.00 & -0.32 & 0.75 & 0.42 \\\\\ncelltype_squamous & -0.97 & 0.38 & 0.66 & -2.27 & 0.33 & 0.10 & 1.38 & 0.00 & -1.47 & 0.14 & 2.82 \\\\\npriortherapy_yes & 0.18 & 1.20 & 0.24 & -0.28 & 0.65 & 0.76 & 1.91 & 0.00 & 0.79 & 0.43 & 1.21 \\\\\n\\end{tabular}\n"
          },
          "metadata": {}
        },
        {
          "output_type": "display_data",
          "data": {
            "text/plain": [
              "<Figure size 640x480 with 1 Axes>"
            ],
            "image/png": "[encoded data removed]"
          },
          "metadata": {}
        }
      ]
    },
    {
      "cell_type": "markdown",
      "source": [
        "##  Stratified Cox Model\n",
        "The Stratified Cox Model is a special type of survival analysis used when we think different groups (like cancer cell types) may have different starting risk levels. It lets each group have its own base risk (called baseline hazard), but still checks how other factors (like treatment or prior therapy) affect survival in the same way across all groups. This method is helpful when the usual Cox model doesn’t work well because the risk patterns are too different between groups."
      ],
      "metadata": {
        "id": "zOkkuxbIH6ek"
      }
    },
    {
      "cell_type": "markdown",
      "source": [
        "When different patients have different risk patterns (Stratified Cox Model)"
      ],
      "metadata": {
        "id": "yMQm5xSVLIP-"
      }
    },
    {
      "cell_type": "code",
      "source": [
        "df_encoded = pd.get_dummies(df, columns=['trt', 'priortherapy'], drop_first=True)\n",
        "\n",
        "# Fit Stratified Cox Model using 'celltype' as the strata\n",
        "cph_strat = CoxPHFitter()\n",
        "cph_strat.fit(df_encoded, duration_col='TIME', event_col='Y', strata=['celltype'])\n",
        "cph_strat.print_summary()\n"
      ],
      "metadata": {
        "colab": {
          "base_uri": "https://localhost:8080/",
          "height": 662
        },
        "id": "2loT28iqH7D1",
        "outputId": "3a5b6a65-5ac8-4567-dc82-48cd89cdc7d8"
      },
      "execution_count": null,
      "outputs": [
        {
          "output_type": "display_data",
          "data": {
            "text/plain": [
              "<lifelines.CoxPHFitter: fitted with 274 total observations, 146 right-censored observations>\n",
              "             duration col = 'TIME'\n",
              "                event col = 'Y'\n",
              "                   strata = celltype\n",
              "      baseline estimation = breslow\n",
              "   number of observations = 274\n",
              "number of events observed = 128\n",
              "   partial log-likelihood = -315.99\n",
              "         time fit was run = 2025-06-05 10:09:01 UTC\n",
              "\n",
              "---\n",
              "                  coef exp(coef)  se(coef)  coef lower 95%  coef upper 95% exp(coef) lower 95% exp(coef) upper 95%\n",
              "covariate                                                                                                         \n",
              "ID                0.02      1.02      0.02           -0.01            0.05                0.99                1.05\n",
              "karno            -0.04      0.96      0.01           -0.05           -0.03                0.95                0.97\n",
              "diagtime         -0.01      0.99      0.01           -0.02            0.01                0.98                1.01\n",
              "age              -0.01      0.99      0.01           -0.03            0.01                0.97                1.01\n",
              "trt_test         -0.90      0.41      1.09           -3.03            1.24                0.05                3.44\n",
              "priortherapy_yes  0.22      1.24      0.24           -0.25            0.69                0.78                1.99\n",
              "\n",
              "                  cmp to     z      p  -log2(p)\n",
              "covariate                                      \n",
              "ID                  0.00  1.11   0.27      1.90\n",
              "karno               0.00 -6.52 <0.005     33.73\n",
              "diagtime            0.00 -0.60   0.55      0.86\n",
              "age                 0.00 -1.41   0.16      2.65\n",
              "trt_test            0.00 -0.82   0.41      1.29\n",
              "priortherapy_yes    0.00  0.90   0.37      1.44\n",
              "---\n",
              "Concordance = 0.71\n",
              "Partial AIC = 643.99\n",
              "log-likelihood ratio test = 45.48 on 6 df\n",
              "-log2(p) of ll-ratio test = 24.67"
            ],
            "text/html": [
              "<div>\n",
              "<style scoped>\n",
              "    .dataframe tbody tr th:only-of-type {\n",
              "        vertical-align: middle;\n",
              "    }\n",
              "\n",
              "    .dataframe tbody tr th {\n",
              "        vertical-align: top;\n",
              "    }\n",
              "\n",
              "    .dataframe thead th {\n",
              "        text-align: right;\n",
              "    }\n",
              "</style>\n",
              "<table border=\"1\" class=\"dataframe\">\n",
              "  <tbody>\n",
              "    <tr>\n",
              "      <th>model</th>\n",
              "      <td>lifelines.CoxPHFitter</td>\n",
              "    </tr>\n",
              "    <tr>\n",
              "      <th>duration col</th>\n",
              "      <td>'TIME'</td>\n",
              "    </tr>\n",
              "    <tr>\n",
              "      <th>event col</th>\n",
              "      <td>'Y'</td>\n",
              "    </tr>\n",
              "    <tr>\n",
              "      <th>strata</th>\n",
              "      <td>celltype</td>\n",
              "    </tr>\n",
              "    <tr>\n",
              "      <th>baseline estimation</th>\n",
              "      <td>breslow</td>\n",
              "    </tr>\n",
              "    <tr>\n",
              "      <th>number of observations</th>\n",
              "      <td>274</td>\n",
              "    </tr>\n",
              "    <tr>\n",
              "      <th>number of events observed</th>\n",
              "      <td>128</td>\n",
              "    </tr>\n",
              "    <tr>\n",
              "      <th>partial log-likelihood</th>\n",
              "      <td>-315.99</td>\n",
              "    </tr>\n",
              "    <tr>\n",
              "      <th>time fit was run</th>\n",
              "      <td>2025-06-05 10:09:01 UTC</td>\n",
              "    </tr>\n",
              "  </tbody>\n",
              "</table>\n",
              "</div><table border=\"1\" class=\"dataframe\">\n",
              "  <thead>\n",
              "    <tr style=\"text-align: right;\">\n",
              "      <th style=\"min-width: 12px;\"></th>\n",
              "      <th style=\"min-width: 12px;\">coef</th>\n",
              "      <th style=\"min-width: 12px;\">exp(coef)</th>\n",
              "      <th style=\"min-width: 12px;\">se(coef)</th>\n",
              "      <th style=\"min-width: 12px;\">coef lower 95%</th>\n",
              "      <th style=\"min-width: 12px;\">coef upper 95%</th>\n",
              "      <th style=\"min-width: 12px;\">exp(coef) lower 95%</th>\n",
              "      <th style=\"min-width: 12px;\">exp(coef) upper 95%</th>\n",
              "      <th style=\"min-width: 12px;\">cmp to</th>\n",
              "      <th style=\"min-width: 12px;\">z</th>\n",
              "      <th style=\"min-width: 12px;\">p</th>\n",
              "      <th style=\"min-width: 12px;\">-log2(p)</th>\n",
              "    </tr>\n",
              "  </thead>\n",
              "  <tbody>\n",
              "    <tr>\n",
              "      <th>ID</th>\n",
              "      <td>0.02</td>\n",
              "      <td>1.02</td>\n",
              "      <td>0.02</td>\n",
              "      <td>-0.01</td>\n",
              "      <td>0.05</td>\n",
              "      <td>0.99</td>\n",
              "      <td>1.05</td>\n",
              "      <td>0.00</td>\n",
              "      <td>1.11</td>\n",
              "      <td>0.27</td>\n",
              "      <td>1.90</td>\n",
              "    </tr>\n",
              "    <tr>\n",
              "      <th>karno</th>\n",
              "      <td>-0.04</td>\n",
              "      <td>0.96</td>\n",
              "      <td>0.01</td>\n",
              "      <td>-0.05</td>\n",
              "      <td>-0.03</td>\n",
              "      <td>0.95</td>\n",
              "      <td>0.97</td>\n",
              "      <td>0.00</td>\n",
              "      <td>-6.52</td>\n",
              "      <td>&lt;0.005</td>\n",
              "      <td>33.73</td>\n",
              "    </tr>\n",
              "    <tr>\n",
              "      <th>diagtime</th>\n",
              "      <td>-0.01</td>\n",
              "      <td>0.99</td>\n",
              "      <td>0.01</td>\n",
              "      <td>-0.02</td>\n",
              "      <td>0.01</td>\n",
              "      <td>0.98</td>\n",
              "      <td>1.01</td>\n",
              "      <td>0.00</td>\n",
              "      <td>-0.60</td>\n",
              "      <td>0.55</td>\n",
              "      <td>0.86</td>\n",
              "    </tr>\n",
              "    <tr>\n",
              "      <th>age</th>\n",
              "      <td>-0.01</td>\n",
              "      <td>0.99</td>\n",
              "      <td>0.01</td>\n",
              "      <td>-0.03</td>\n",
              "      <td>0.01</td>\n",
              "      <td>0.97</td>\n",
              "      <td>1.01</td>\n",
              "      <td>0.00</td>\n",
              "      <td>-1.41</td>\n",
              "      <td>0.16</td>\n",
              "      <td>2.65</td>\n",
              "    </tr>\n",
              "    <tr>\n",
              "      <th>trt_test</th>\n",
              "      <td>-0.90</td>\n",
              "      <td>0.41</td>\n",
              "      <td>1.09</td>\n",
              "      <td>-3.03</td>\n",
              "      <td>1.24</td>\n",
              "      <td>0.05</td>\n",
              "      <td>3.44</td>\n",
              "      <td>0.00</td>\n",
              "      <td>-0.82</td>\n",
              "      <td>0.41</td>\n",
              "      <td>1.29</td>\n",
              "    </tr>\n",
              "    <tr>\n",
              "      <th>priortherapy_yes</th>\n",
              "      <td>0.22</td>\n",
              "      <td>1.24</td>\n",
              "      <td>0.24</td>\n",
              "      <td>-0.25</td>\n",
              "      <td>0.69</td>\n",
              "      <td>0.78</td>\n",
              "      <td>1.99</td>\n",
              "      <td>0.00</td>\n",
              "      <td>0.90</td>\n",
              "      <td>0.37</td>\n",
              "      <td>1.44</td>\n",
              "    </tr>\n",
              "  </tbody>\n",
              "</table><br><div>\n",
              "<style scoped>\n",
              "    .dataframe tbody tr th:only-of-type {\n",
              "        vertical-align: middle;\n",
              "    }\n",
              "\n",
              "    .dataframe tbody tr th {\n",
              "        vertical-align: top;\n",
              "    }\n",
              "\n",
              "    .dataframe thead th {\n",
              "        text-align: right;\n",
              "    }\n",
              "</style>\n",
              "<table border=\"1\" class=\"dataframe\">\n",
              "  <tbody>\n",
              "    <tr>\n",
              "      <th>Concordance</th>\n",
              "      <td>0.71</td>\n",
              "    </tr>\n",
              "    <tr>\n",
              "      <th>Partial AIC</th>\n",
              "      <td>643.99</td>\n",
              "    </tr>\n",
              "    <tr>\n",
              "      <th>log-likelihood ratio test</th>\n",
              "      <td>45.48 on 6 df</td>\n",
              "    </tr>\n",
              "    <tr>\n",
              "      <th>-log2(p) of ll-ratio test</th>\n",
              "      <td>24.67</td>\n",
              "    </tr>\n",
              "  </tbody>\n",
              "</table>\n",
              "</div>"
            ],
            "text/latex": "\\begin{tabular}{lrrrrrrrrrrr}\n & coef & exp(coef) & se(coef) & coef lower 95% & coef upper 95% & exp(coef) lower 95% & exp(coef) upper 95% & cmp to & z & p & -log2(p) \\\\\ncovariate &  &  &  &  &  &  &  &  &  &  &  \\\\\nID & 0.02 & 1.02 & 0.02 & -0.01 & 0.05 & 0.99 & 1.05 & 0.00 & 1.11 & 0.27 & 1.90 \\\\\nkarno & -0.04 & 0.96 & 0.01 & -0.05 & -0.03 & 0.95 & 0.97 & 0.00 & -6.52 & 0.00 & 33.73 \\\\\ndiagtime & -0.01 & 0.99 & 0.01 & -0.02 & 0.01 & 0.98 & 1.01 & 0.00 & -0.60 & 0.55 & 0.86 \\\\\nage & -0.01 & 0.99 & 0.01 & -0.03 & 0.01 & 0.97 & 1.01 & 0.00 & -1.41 & 0.16 & 2.65 \\\\\ntrt_test & -0.90 & 0.41 & 1.09 & -3.03 & 1.24 & 0.05 & 3.44 & 0.00 & -0.82 & 0.41 & 1.29 \\\\\npriortherapy_yes & 0.22 & 1.24 & 0.24 & -0.25 & 0.69 & 0.78 & 1.99 & 0.00 & 0.90 & 0.37 & 1.44 \\\\\n\\end{tabular}\n"
          },
          "metadata": {}
        }
      ]
    },
    {
      "cell_type": "markdown",
      "source": [
        "## Time varying survival analysis\n",
        "\n",
        "\n",
        "---\n",
        "\n",
        "\n",
        "Time-varying survival analysis is used when certain factors, like treatment or health conditions, can change over time and affect a patient’s survival. Instead of assuming these factors stay the same, this method takes into account their changes during the follow-up period. This helps give a more accurate understanding of how survival chances are affected as things change for each patient over time.\n",
        "\n",
        "\n",
        "\n",
        "---\n",
        "\n"
      ],
      "metadata": {
        "id": "5ZhmzeHzf7JT"
      }
    },
    {
      "cell_type": "markdown",
      "source": [
        " It separates the data into start and event observations, renames columns to reflect time intervals (start, stop), and merges them using patient ID. Then it encodes categorical features and prints a preview of the key columns."
      ],
      "metadata": {
        "id": "KcSbq8XrC_0J"
      }
    },
    {
      "cell_type": "markdown",
      "source": [
        "When patient condition changes over time (Time-Varying Covariate Model)"
      ],
      "metadata": {
        "id": "4tYsWVmbLPoO"
      }
    },
    {
      "cell_type": "code",
      "source": [
        "#step 1:Separate rows by Y\n",
        "df_start=df[df['Y']==0].copy() #start of observation/censoring\n",
        "df_event=df[df['Y']==1].copy() #Death\n",
        "\n",
        "#step 2:Merge on ID\n",
        "#Bring over TIME as stop and Y as event\n",
        "df_event=df_event.rename(columns={\"TIME\":\"stop\",\"Y\":\"event\"})\n",
        "df_start=df_start.rename(columns={\"TIME\":\"start\"})\n",
        "\n",
        "df_timevarying=pd.merge(df_start,df_event[[\"ID\",\"stop\",\"event\"]],on=\"ID\")\n",
        "df_timevarying=pd.get_dummies(df_timevarying,columns=['trt','celltype','priortherapy'],drop_first=True)\n",
        "\n",
        "#final check\n",
        "print(df_timevarying[[\"ID\",\"start\",\"stop\",\"event\"]].head())"
      ],
      "metadata": {
        "id": "Ka2Qq_hjsVzI",
        "colab": {
          "base_uri": "https://localhost:8080/"
        },
        "outputId": "275bd55c-22e0-4124-a3b3-74367a7f4f79"
      },
      "execution_count": null,
      "outputs": [
        {
          "output_type": "stream",
          "name": "stdout",
          "text": [
            "   ID  start  stop  event\n",
            "0   1      0    72      1\n",
            "1   2      0   411      1\n",
            "2   3      0   228      1\n",
            "3   4      0   126      1\n",
            "4   5      0   118      1\n"
          ]
        }
      ]
    },
    {
      "cell_type": "markdown",
      "source": [
        "Before modeling, it checks for missing values in the dataset. It also ensures that the column Y is removed from the time-varying dataset to prevent redundancy or confusion during model fitting."
      ],
      "metadata": {
        "id": "QwtJp2BMDaFX"
      }
    },
    {
      "cell_type": "code",
      "source": [
        "#check there is null value\n",
        "print(df_timevarying.isnull().sum())\n",
        "#ensure y is not in the modeling data\n",
        "if 'Y' in df_timevarying.columns:\n",
        "   df_timevarying.drop(columns=['Y'],inplace=True)\n"
      ],
      "metadata": {
        "colab": {
          "base_uri": "https://localhost:8080/"
        },
        "id": "xfSB3LHFk1lJ",
        "outputId": "ce3f9f91-8485-461a-8e6f-669d66964770"
      },
      "execution_count": null,
      "outputs": [
        {
          "output_type": "stream",
          "name": "stdout",
          "text": [
            "ID                    0\n",
            "start                 0\n",
            "Y                     0\n",
            "karno                 0\n",
            "diagtime              0\n",
            "age                   0\n",
            "stop                  0\n",
            "event                 0\n",
            "trt_test              0\n",
            "celltype_large        0\n",
            "celltype_smallcell    0\n",
            "celltype_squamous     0\n",
            "priortherapy_yes      0\n",
            "dtype: int64\n"
          ]
        }
      ]
    },
    {
      "cell_type": "markdown",
      "source": [
        "## cox time-varying coefficient\n",
        "\n",
        "\n",
        "---\n",
        "\n",
        "Cox Time-Varying Coefficient Model allows the modeling of effects of covariates that may change during the observation period.\n",
        "\n",
        "\n",
        "\n",
        "---\n",
        "\n"
      ],
      "metadata": {
        "id": "uPMwf7wUtZyn"
      }
    },
    {
      "cell_type": "markdown",
      "source": [
        "It fits a time-varying Cox model using CoxTimeVaryingFitter. It provides the patient ID, event occurrence, and the time interval (start, stop) for the analysis. The model summary and coefficient plots are then displayed to interpret the changing influence of covariates over time."
      ],
      "metadata": {
        "id": "jpFdD9svDwUp"
      }
    },
    {
      "cell_type": "code",
      "source": [
        "#When patient condition changes over time\n",
        "from lifelines import CoxTimeVaryingFitter\n",
        "ctv=CoxTimeVaryingFitter()\n",
        "ctv.fit(df_timevarying,id_col='ID',event_col='event',start_col='start',stop_col='stop')\n",
        "ctv.print_summary()\n",
        "ctv.plot()\n",
        "plt.show()"
      ],
      "metadata": {
        "colab": {
          "base_uri": "https://localhost:8080/",
          "height": 1000
        },
        "id": "CBqeTLZasyTt",
        "outputId": "3f29adc5-9341-4366-872e-a6bae3b9bd03"
      },
      "execution_count": null,
      "outputs": [
        {
          "output_type": "display_data",
          "data": {
            "text/plain": [
              "<lifelines.CoxTimeVaryingFitter: fitted with 128 periods, 128 subjects, 128 events>\n",
              "         event col = 'event'\n",
              "number of subjects = 128\n",
              " number of periods = 128\n",
              "  number of events = 128\n",
              "partial log-likelihood = -465.24\n",
              "  time fit was run = 2025-06-05 10:09:01 UTC\n",
              "\n",
              "---\n",
              "                    coef exp(coef)  se(coef)  coef lower 95%  coef upper 95% exp(coef) lower 95% exp(coef) upper 95%\n",
              "covariate                                                                                                           \n",
              "karno              -0.03      0.97      0.01           -0.05           -0.02                0.96                0.98\n",
              "diagtime           -0.00      1.00      0.01           -0.02            0.01                0.98                1.01\n",
              "age                -0.01      0.99      0.01           -0.03            0.00                0.97                1.00\n",
              "trt_test            0.36      1.44      0.21           -0.05            0.77                0.95                2.17\n",
              "celltype_large     -0.80      0.45      0.30           -1.38           -0.21                0.25                0.81\n",
              "celltype_smallcell -0.18      0.84      0.28           -0.72            0.36                0.49                1.44\n",
              "celltype_squamous  -1.10      0.33      0.30           -1.68           -0.51                0.19                0.60\n",
              "priortherapy_yes    0.18      1.19      0.23           -0.28            0.63                0.76                1.88\n",
              "\n",
              "                    cmp to     z      p  -log2(p)\n",
              "covariate                                        \n",
              "karno                 0.00 -6.07 <0.005     29.52\n",
              "diagtime              0.00 -0.45   0.65      0.61\n",
              "age                   0.00 -1.53   0.12      3.00\n",
              "trt_test              0.00  1.72   0.08      3.56\n",
              "celltype_large        0.00 -2.65   0.01      6.95\n",
              "celltype_smallcell    0.00 -0.65   0.52      0.96\n",
              "celltype_squamous     0.00 -3.66 <0.005     11.94\n",
              "priortherapy_yes      0.00  0.76   0.45      1.17\n",
              "---\n",
              "Partial AIC = 946.47\n",
              "log-likelihood ratio test = 62.34 on 8 df\n",
              "-log2(p) of ll-ratio test = 32.53"
            ],
            "text/html": [
              "<div>\n",
              "<style scoped>\n",
              "    .dataframe tbody tr th:only-of-type {\n",
              "        vertical-align: middle;\n",
              "    }\n",
              "\n",
              "    .dataframe tbody tr th {\n",
              "        vertical-align: top;\n",
              "    }\n",
              "\n",
              "    .dataframe thead th {\n",
              "        text-align: right;\n",
              "    }\n",
              "</style>\n",
              "<table border=\"1\" class=\"dataframe\">\n",
              "  <tbody>\n",
              "    <tr>\n",
              "      <th>model</th>\n",
              "      <td>lifelines.CoxTimeVaryingFitter</td>\n",
              "    </tr>\n",
              "    <tr>\n",
              "      <th>event col</th>\n",
              "      <td>'event'</td>\n",
              "    </tr>\n",
              "    <tr>\n",
              "      <th>number of subjects</th>\n",
              "      <td>128</td>\n",
              "    </tr>\n",
              "    <tr>\n",
              "      <th>number of periods</th>\n",
              "      <td>128</td>\n",
              "    </tr>\n",
              "    <tr>\n",
              "      <th>number of events</th>\n",
              "      <td>128</td>\n",
              "    </tr>\n",
              "    <tr>\n",
              "      <th>partial log-likelihood</th>\n",
              "      <td>-465.24</td>\n",
              "    </tr>\n",
              "    <tr>\n",
              "      <th>time fit was run</th>\n",
              "      <td>2025-06-05 10:09:01 UTC</td>\n",
              "    </tr>\n",
              "  </tbody>\n",
              "</table>\n",
              "</div><table border=\"1\" class=\"dataframe\">\n",
              "  <thead>\n",
              "    <tr style=\"text-align: right;\">\n",
              "      <th style=\"min-width: 12px;\"></th>\n",
              "      <th style=\"min-width: 12px;\">coef</th>\n",
              "      <th style=\"min-width: 12px;\">exp(coef)</th>\n",
              "      <th style=\"min-width: 12px;\">se(coef)</th>\n",
              "      <th style=\"min-width: 12px;\">coef lower 95%</th>\n",
              "      <th style=\"min-width: 12px;\">coef upper 95%</th>\n",
              "      <th style=\"min-width: 12px;\">exp(coef) lower 95%</th>\n",
              "      <th style=\"min-width: 12px;\">exp(coef) upper 95%</th>\n",
              "      <th style=\"min-width: 12px;\">cmp to</th>\n",
              "      <th style=\"min-width: 12px;\">z</th>\n",
              "      <th style=\"min-width: 12px;\">p</th>\n",
              "      <th style=\"min-width: 12px;\">-log2(p)</th>\n",
              "    </tr>\n",
              "  </thead>\n",
              "  <tbody>\n",
              "    <tr>\n",
              "      <th>karno</th>\n",
              "      <td>-0.03</td>\n",
              "      <td>0.97</td>\n",
              "      <td>0.01</td>\n",
              "      <td>-0.05</td>\n",
              "      <td>-0.02</td>\n",
              "      <td>0.96</td>\n",
              "      <td>0.98</td>\n",
              "      <td>0.00</td>\n",
              "      <td>-6.07</td>\n",
              "      <td>&lt;0.005</td>\n",
              "      <td>29.52</td>\n",
              "    </tr>\n",
              "    <tr>\n",
              "      <th>diagtime</th>\n",
              "      <td>-0.00</td>\n",
              "      <td>1.00</td>\n",
              "      <td>0.01</td>\n",
              "      <td>-0.02</td>\n",
              "      <td>0.01</td>\n",
              "      <td>0.98</td>\n",
              "      <td>1.01</td>\n",
              "      <td>0.00</td>\n",
              "      <td>-0.45</td>\n",
              "      <td>0.65</td>\n",
              "      <td>0.61</td>\n",
              "    </tr>\n",
              "    <tr>\n",
              "      <th>age</th>\n",
              "      <td>-0.01</td>\n",
              "      <td>0.99</td>\n",
              "      <td>0.01</td>\n",
              "      <td>-0.03</td>\n",
              "      <td>0.00</td>\n",
              "      <td>0.97</td>\n",
              "      <td>1.00</td>\n",
              "      <td>0.00</td>\n",
              "      <td>-1.53</td>\n",
              "      <td>0.12</td>\n",
              "      <td>3.00</td>\n",
              "    </tr>\n",
              "    <tr>\n",
              "      <th>trt_test</th>\n",
              "      <td>0.36</td>\n",
              "      <td>1.44</td>\n",
              "      <td>0.21</td>\n",
              "      <td>-0.05</td>\n",
              "      <td>0.77</td>\n",
              "      <td>0.95</td>\n",
              "      <td>2.17</td>\n",
              "      <td>0.00</td>\n",
              "      <td>1.72</td>\n",
              "      <td>0.08</td>\n",
              "      <td>3.56</td>\n",
              "    </tr>\n",
              "    <tr>\n",
              "      <th>celltype_large</th>\n",
              "      <td>-0.80</td>\n",
              "      <td>0.45</td>\n",
              "      <td>0.30</td>\n",
              "      <td>-1.38</td>\n",
              "      <td>-0.21</td>\n",
              "      <td>0.25</td>\n",
              "      <td>0.81</td>\n",
              "      <td>0.00</td>\n",
              "      <td>-2.65</td>\n",
              "      <td>0.01</td>\n",
              "      <td>6.95</td>\n",
              "    </tr>\n",
              "    <tr>\n",
              "      <th>celltype_smallcell</th>\n",
              "      <td>-0.18</td>\n",
              "      <td>0.84</td>\n",
              "      <td>0.28</td>\n",
              "      <td>-0.72</td>\n",
              "      <td>0.36</td>\n",
              "      <td>0.49</td>\n",
              "      <td>1.44</td>\n",
              "      <td>0.00</td>\n",
              "      <td>-0.65</td>\n",
              "      <td>0.52</td>\n",
              "      <td>0.96</td>\n",
              "    </tr>\n",
              "    <tr>\n",
              "      <th>celltype_squamous</th>\n",
              "      <td>-1.10</td>\n",
              "      <td>0.33</td>\n",
              "      <td>0.30</td>\n",
              "      <td>-1.68</td>\n",
              "      <td>-0.51</td>\n",
              "      <td>0.19</td>\n",
              "      <td>0.60</td>\n",
              "      <td>0.00</td>\n",
              "      <td>-3.66</td>\n",
              "      <td>&lt;0.005</td>\n",
              "      <td>11.94</td>\n",
              "    </tr>\n",
              "    <tr>\n",
              "      <th>priortherapy_yes</th>\n",
              "      <td>0.18</td>\n",
              "      <td>1.19</td>\n",
              "      <td>0.23</td>\n",
              "      <td>-0.28</td>\n",
              "      <td>0.63</td>\n",
              "      <td>0.76</td>\n",
              "      <td>1.88</td>\n",
              "      <td>0.00</td>\n",
              "      <td>0.76</td>\n",
              "      <td>0.45</td>\n",
              "      <td>1.17</td>\n",
              "    </tr>\n",
              "  </tbody>\n",
              "</table><br><div>\n",
              "<style scoped>\n",
              "    .dataframe tbody tr th:only-of-type {\n",
              "        vertical-align: middle;\n",
              "    }\n",
              "\n",
              "    .dataframe tbody tr th {\n",
              "        vertical-align: top;\n",
              "    }\n",
              "\n",
              "    .dataframe thead th {\n",
              "        text-align: right;\n",
              "    }\n",
              "</style>\n",
              "<table border=\"1\" class=\"dataframe\">\n",
              "  <tbody>\n",
              "    <tr>\n",
              "      <th>Partial AIC</th>\n",
              "      <td>946.47</td>\n",
              "    </tr>\n",
              "    <tr>\n",
              "      <th>log-likelihood ratio test</th>\n",
              "      <td>62.34 on 8 df</td>\n",
              "    </tr>\n",
              "    <tr>\n",
              "      <th>-log2(p) of ll-ratio test</th>\n",
              "      <td>32.53</td>\n",
              "    </tr>\n",
              "  </tbody>\n",
              "</table>\n",
              "</div>"
            ],
            "text/latex": "\\begin{tabular}{lrrrrrrrrrrr}\n & coef & exp(coef) & se(coef) & coef lower 95% & coef upper 95% & exp(coef) lower 95% & exp(coef) upper 95% & cmp to & z & p & -log2(p) \\\\\ncovariate &  &  &  &  &  &  &  &  &  &  &  \\\\\nkarno & -0.03 & 0.97 & 0.01 & -0.05 & -0.02 & 0.96 & 0.98 & 0.00 & -6.07 & 0.00 & 29.52 \\\\\ndiagtime & -0.00 & 1.00 & 0.01 & -0.02 & 0.01 & 0.98 & 1.01 & 0.00 & -0.45 & 0.65 & 0.61 \\\\\nage & -0.01 & 0.99 & 0.01 & -0.03 & 0.00 & 0.97 & 1.00 & 0.00 & -1.53 & 0.12 & 3.00 \\\\\ntrt_test & 0.36 & 1.44 & 0.21 & -0.05 & 0.77 & 0.95 & 2.17 & 0.00 & 1.72 & 0.08 & 3.56 \\\\\ncelltype_large & -0.80 & 0.45 & 0.30 & -1.38 & -0.21 & 0.25 & 0.81 & 0.00 & -2.65 & 0.01 & 6.95 \\\\\ncelltype_smallcell & -0.18 & 0.84 & 0.28 & -0.72 & 0.36 & 0.49 & 1.44 & 0.00 & -0.65 & 0.52 & 0.96 \\\\\ncelltype_squamous & -1.10 & 0.33 & 0.30 & -1.68 & -0.51 & 0.19 & 0.60 & 0.00 & -3.66 & 0.00 & 11.94 \\\\\npriortherapy_yes & 0.18 & 1.19 & 0.23 & -0.28 & 0.63 & 0.76 & 1.88 & 0.00 & 0.76 & 0.45 & 1.17 \\\\\n\\end{tabular}\n"
          },
          "metadata": {}
        },
        {
          "output_type": "display_data",
          "data": {
            "text/plain": [
              "<Figure size 640x480 with 1 Axes>"
            ],
            "image/png": "[encoded data removed]"
          },
          "metadata": {}
        }
      ]
    },
    {
      "cell_type": "markdown",
      "source": [
        "## Kaplin-Meier Time varying\n",
        "\n",
        "\n",
        "---\n",
        "\n",
        "It creates and displays Kaplan-Meier survival curves to compare the survival probabilities of patients with different cell types over time. For each unique cell type in the dataset, it filters the data, fits the Kaplan-Meier estimator using the TIME (duration) and Y (event occurred or not) columns, and plots the survival function. The resulting graph shows how likely patients with each cell type are to survive as time increases, helping to visually compare which cell types are associated with better or worse survival outcomes.\n",
        "\n",
        "\n",
        "---\n",
        "\n"
      ],
      "metadata": {
        "id": "0JxWzgxxEsHs"
      }
    },
    {
      "cell_type": "code",
      "source": [
        "plt.figure(figsize=(10, 6))\n",
        "for cell in df['celltype'].unique():\n",
        "    mask = df['celltype'] == cell\n",
        "    kmf.fit(df[mask]['TIME'], event_observed=df[mask]['Y'], label=cell)\n",
        "    kmf.plot_survival_function()\n",
        "\n",
        "plt.title('Kaplan-Meier Curve by Cell Type (Time-Varying)')\n",
        "plt.xlabel('Time')\n",
        "plt.ylabel('Survival Probability')\n",
        "plt.legend(title='Cell Type')\n",
        "plt.grid(True)\n",
        "plt.show()"
      ],
      "metadata": {
        "id": "afYhm9KUxUaX",
        "colab": {
          "base_uri": "https://localhost:8080/",
          "height": 564
        },
        "outputId": "7ae8cb94-ba11-478a-90fe-465e96600642"
      },
      "execution_count": null,
      "outputs": [
        {
          "output_type": "display_data",
          "data": {
            "text/plain": [
              "<Figure size 1000x600 with 1 Axes>"
            ],
            "image/png": "[encoded data removed]"
          },
          "metadata": {}
        }
      ]
    },
    {
      "cell_type": "markdown",
      "source": [
        "## Log-Rank Test time varying\n",
        "\n",
        "\n",
        "---\n",
        "\n",
        "In this log-rank test compare the survival distributions between two groups of patients with different cell types — in this case, squamous and small cell lung cancer. The test checks if there is a statistically significant difference in survival time between the two groups, using their TIME and Y (event) values. The result helps determine whether one group tends to survive longer than the other, and whether the difference is likely due to chance or is statistically meaningful.\n",
        "\n",
        "---\n",
        "\n"
      ],
      "metadata": {
        "id": "iloS540mGlhB"
      }
    },
    {
      "cell_type": "code",
      "source": [
        "group1 = df[df['celltype'] == 'squamous']\n",
        "group2 = df[df['celltype'] == 'smallcell']\n",
        "\n",
        "# Perform log-rank test between the two groups\n",
        "results = logrank_test(group1['TIME'], group2['TIME'],\n",
        "                       event_observed_A=group1['Y'], event_observed_B=group2['Y'])\n",
        "results.print_summary()"
      ],
      "metadata": {
        "id": "J9Qz9enKGoic",
        "colab": {
          "base_uri": "https://localhost:8080/",
          "height": 206
        },
        "outputId": "9a238a8b-a69d-4126-fa3b-bc8f27097b5d"
      },
      "execution_count": null,
      "outputs": [
        {
          "output_type": "display_data",
          "data": {
            "text/plain": [
              "<lifelines.StatisticalResult: logrank_test>\n",
              "               t_0 = -1\n",
              " null_distribution = chi squared\n",
              "degrees_of_freedom = 1\n",
              "         test_name = logrank_test\n",
              "\n",
              "---\n",
              " test_statistic      p  -log2(p)\n",
              "          11.57 <0.005     10.55"
            ],
            "text/html": [
              "<div>\n",
              "<style scoped>\n",
              "    .dataframe tbody tr th:only-of-type {\n",
              "        vertical-align: middle;\n",
              "    }\n",
              "\n",
              "    .dataframe tbody tr th {\n",
              "        vertical-align: top;\n",
              "    }\n",
              "\n",
              "    .dataframe thead th {\n",
              "        text-align: right;\n",
              "    }\n",
              "</style>\n",
              "<table border=\"1\" class=\"dataframe\">\n",
              "  <tbody>\n",
              "    <tr>\n",
              "      <th>t_0</th>\n",
              "      <td>-1</td>\n",
              "    </tr>\n",
              "    <tr>\n",
              "      <th>null_distribution</th>\n",
              "      <td>chi squared</td>\n",
              "    </tr>\n",
              "    <tr>\n",
              "      <th>degrees_of_freedom</th>\n",
              "      <td>1</td>\n",
              "    </tr>\n",
              "    <tr>\n",
              "      <th>test_name</th>\n",
              "      <td>logrank_test</td>\n",
              "    </tr>\n",
              "  </tbody>\n",
              "</table>\n",
              "</div><table border=\"1\" class=\"dataframe\">\n",
              "  <thead>\n",
              "    <tr style=\"text-align: right;\">\n",
              "      <th></th>\n",
              "      <th>test_statistic</th>\n",
              "      <th>p</th>\n",
              "      <th>-log2(p)</th>\n",
              "    </tr>\n",
              "  </thead>\n",
              "  <tbody>\n",
              "    <tr>\n",
              "      <th>0</th>\n",
              "      <td>11.57</td>\n",
              "      <td>&lt;0.005</td>\n",
              "      <td>10.55</td>\n",
              "    </tr>\n",
              "  </tbody>\n",
              "</table>"
            ],
            "text/latex": "\\begin{tabular}{lrrr}\n & test_statistic & p & -log2(p) \\\\\n0 & 11.57 & 0.00 & 10.55 \\\\\n\\end{tabular}\n"
          },
          "metadata": {}
        }
      ]
    },
    {
      "cell_type": "markdown",
      "source": [
        "## What is a competing Risk?\n",
        "\n",
        "\n",
        "---\n",
        "\n",
        "competing risks refer to different possible reasons why a patient might not survive — for example, a patient may die from lung cancer (primary event) or from another unrelated cause like a heart attack (competing event). Once one event happens, the other events cannot happen. So, competing risks are alternative events that prevent the event of interest from occurring. Ignoring them can lead to misleading survival analysis results, especially when other risks are common.\n",
        "\n",
        "---\n",
        "\n"
      ],
      "metadata": {
        "id": "_lYMciVbi5hX"
      }
    },
    {
      "cell_type": "markdown",
      "source": [
        "###Fine-Gray Model\n",
        "\n",
        "\n",
        "---\n",
        "\n",
        "Fine-Gray model is used to analyze survival data when there are competing risks, meaning multiple possible reasons for death. For example, if the goal is to study death from lung cancer, deaths from other causes (like heart attacks) are competing events. The Fine-Gray model focuses on estimating the cumulative incidence — the probability over time that a patient experiences the specific event of interest, while properly accounting for the risk of other competing events.\n",
        "\n",
        "---\n",
        "\n"
      ],
      "metadata": {
        "id": "lZVePnLbkIC8"
      }
    },
    {
      "cell_type": "markdown",
      "source": [
        "When patients might experience different types of outcomes (Competing Risks Model)"
      ],
      "metadata": {
        "id": "9TdUXdznLBPM"
      }
    },
    {
      "cell_type": "markdown",
      "source": [],
      "metadata": {
        "id": "TGnvWGcYkbVo"
      }
    },
    {
      "cell_type": "code",
      "source": [
        "from lifelines import FineGrayFitter\n",
        "df_competing = df.copy()\n",
        "# Set event type based on Y and a condition for competing risk\n",
        "df_competing['event_type'] = 0  # censored by default\n",
        "df_competing.loc[df_competing['Y'] == 1, 'event_type'] = 1  # Event of interest\n",
        "# Let's assume 'squamous' is a competing event type 2\n",
        "df_competing.loc[(df_competing['Y'] == 1) & (df_competing['celltype'] == 'squamous'), 'event_type'] = 2\n",
        "\n",
        "# Drop original 'Y' and one of the celltype dummies if using celltype in model\n",
        "# dummy encoding for covariates\n",
        "df_competing_encoded = pd.get_dummies(df_competing.drop(columns=['Y']), columns=['trt', 'celltype', 'priortherapy'], drop_first=True)\n",
        "\n",
        "# Fit Fine-Gray model for event type 1 (the event of interest)\n",
        "fgf = FineGrayFitter(event_of_interest=1)\n",
        "\n",
        "# Fit the model. Use 'TIME' as duration, 'event_type' as observed event type\n",
        "# Exclude the original 'celltype_squamous' dummy if 'event_type' is defined based on it and celltype\n",
        "# Adjust the columns passed to fit if needed based on how event_type is defined\n",
        "covariates = [col for col in df_competing_encoded.columns if col not in ['ID', 'TIME', 'event_type']]\n",
        "fgf.fit(df_competing_encoded, duration_col='TIME', event_col='event_type', formula='+'.join(covariates))\n",
        "\n",
        "fgf.print_summary()"
      ],
      "metadata": {
        "id": "xw6n-p1yqWGk"
      },
      "execution_count": null,
      "outputs": []
    },
    {
      "cell_type": "markdown",
      "source": [
        "\n",
        "\n",
        "\n",
        "\n",
        "## Conclusion\n",
        "\n",
        "---\n",
        "\n",
        "In this project, I explored different statistical methods to understand the survival patterns of lung cancer patients. I started by learning how to work with the time until events like death or recovery happen. Using Kaplan-Meier survival curves, I was able to visualize how long patients lived under different treatment types. This helped compare which treatment seemed more effective over time.\n",
        "\n",
        "To see if those survival differences were real or just by chance, I used the Log-Rank Test. This confirmed that there were meaningful differences in survival between different groups, such as types of cancer cells.\n",
        "\n",
        "Next, I used the Cox Proportional Hazards Model to study how different factors like treatment and patient condition affect survival. Then, I went further with the Time-Varying Covariate Model, which was helpful in tracking how changes in a patient’s condition over time could impact their survival.\n",
        "\n",
        "To handle situations where different groups (like cell types) might naturally have different risks, I applied the Stratified Cox Model. This allowed me to adjust for those differences without treating them the same.\n",
        "\n",
        "Finally, I explored more complex situations with the Competing Risks Model. This was important because not all patients died from lung cancer—some had other causes. Using the Fine-Gray model, I could focus on the real risk of dying from lung cancer while considering those other outcomes too.\n",
        "\n",
        "##Final Decision\n",
        "Treatment type, cancer cell type, and patient condition are significant determinants of survival, highlighting the importance of personalized treatment approaches to improve patient outcomes.\n"
      ],
      "metadata": {
        "id": "o_ZiEVuYr1Lt"
      }
    }
  ]
}