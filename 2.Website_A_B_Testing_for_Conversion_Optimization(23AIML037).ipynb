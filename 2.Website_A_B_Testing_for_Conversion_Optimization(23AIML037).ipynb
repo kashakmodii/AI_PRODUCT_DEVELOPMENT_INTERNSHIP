{
  "nbformat": 4,
  "nbformat_minor": 0,
  "metadata": {
    "colab": {
      "provenance": []
    },
    "kernelspec": {
      "name": "python3",
      "display_name": "Python 3"
    },
    "language_info": {
      "name": "python"
    }
  },
  "cells": [
    {
      "cell_type": "markdown",
      "source": [
        "##Problem:\n",
        "An e-commerce startup wants to know if a new checkout funnel (B) outperforms the old one (A)\n",
        "\n",
        "##Steps:\n",
        "\n",
        "Simulate click‐through data (visits vs. purchases) for A and B.\n",
        "\n",
        "Calculate conversion rates and 95% confidence intervals.\n",
        "\n",
        "Plot conversion rates with error bars.\n",
        "\n",
        "Perform a two‐proportion z‐test to see if B beats A.\n",
        "\n",
        "Real-Time Monitoring & Sequential Testing"
      ],
      "metadata": {
        "id": "MynL0rd5-rNY"
      }
    },
    {
      "cell_type": "markdown",
      "source": [
        "## Theoretical Description\n",
        "A/B testing is a statistical comparison between two variants (A and B) to determine which one performs better for a given metric (e.g., conversion rate). It's widely used in digital marketing and product design.\n",
        "\n",
        "Goal of the Project\n",
        "To determine whether a new version of a website (Variant B) leads to a statistically significant improvement in conversion rates compared to the old version (Variant A).\n",
        "\n",
        "\n"
      ],
      "metadata": {
        "id": "XZSXwGlMeB18"
      }
    },
    {
      "cell_type": "markdown",
      "source": [
        "\n",
        "\n",
        "---\n",
        "\n",
        "Imports all necessary libraries\n",
        "\n",
        "---\n",
        "\n"
      ],
      "metadata": {
        "id": "3vv_nYAZ0jsN"
      }
    },
    {
      "cell_type": "code",
      "execution_count": null,
      "metadata": {
        "id": "O4WLFENadYgB"
      },
      "outputs": [],
      "source": [
        "import numpy as np,time\n",
        "import pandas as pd\n",
        "from scipy import stats\n",
        "import matplotlib.pyplot as plt\n",
        "import seaborn as sns\n",
        "import statsmodels.stats.api as sms\n",
        "from statsmodels.stats.proportion import proportions_ztest\n",
        "from math import ceil\n",
        "from IPython.display import clear_output"
      ]
    },
    {
      "cell_type": "markdown",
      "source": [
        "\n",
        "\n",
        "---\n",
        "\n",
        "Ensures reproducibility by fixing the random number generator.\n",
        "\n",
        "\n",
        "---\n",
        "\n"
      ],
      "metadata": {
        "id": "wQVAsgxA0n8d"
      }
    },
    {
      "cell_type": "code",
      "source": [
        "np.random.seed(42)"
      ],
      "metadata": {
        "id": "NRrl7TD3e5zh"
      },
      "execution_count": null,
      "outputs": []
    },
    {
      "cell_type": "markdown",
      "source": [
        "\n",
        "\n",
        "---\n",
        "\n",
        "n_A, n_B: Number of visitors in each group\n",
        "\n",
        "p_A, p_B: True conversion rates\n",
        "\n",
        "These assumptions are used to simulate test data later.\n",
        "\n",
        "---\n",
        "\n"
      ],
      "metadata": {
        "id": "IL03W1iK0w1r"
      }
    },
    {
      "cell_type": "code",
      "source": [
        "# Assume 10,000 visitors each\n",
        "n_A,p_A=10_000,0.10 # variant A: 10% true conversion\n",
        "n_B,p_B=10_000,0.12 # variant B: 12% true conversion"
      ],
      "metadata": {
        "id": "J1tI8URGe83H"
      },
      "execution_count": null,
      "outputs": []
    },
    {
      "cell_type": "markdown",
      "source": [
        "\n",
        "\n",
        "---\n",
        "\n",
        "Simulates the number of purchases (success_A and success_B) from n_A and n_B visitors using binomial distribution with conversion probabilities p_A and p_B.\n",
        "\n",
        "---\n",
        "\n"
      ],
      "metadata": {
        "id": "um_cYUxY03Rv"
      }
    },
    {
      "cell_type": "code",
      "source": [
        "#Simulate  number of purchases\n",
        "success_A=np.random.binomial(n_A,p_A)\n",
        "success_B=np.random.binomial(n_B,p_B)"
      ],
      "metadata": {
        "id": "G8QN_ZDpfJrL"
      },
      "execution_count": null,
      "outputs": []
    },
    {
      "cell_type": "markdown",
      "source": [
        "## Calculate conversion rates and 95% confidence Intervals\n",
        "\n",
        "---\n",
        "p_hat: observed conversion rate.\n",
        "\n",
        "se: standard error.\n",
        "\n",
        "z: z-score for 95% CI (~1.96).\n",
        "\n",
        "Returns: estimate ± margin of error.\n",
        "\n",
        "Organizes the data into a structured format.\n",
        "\n",
        "Makes it easy to:\n",
        "\n",
        "View results for each variant.\n",
        "\n",
        "Compare key metrics like conversions, rates, and confidence intervals.\n",
        "\n",
        "---\n",
        "\n",
        "\n",
        "\n"
      ],
      "metadata": {
        "id": "qIsyxqTwh9uS"
      }
    },
    {
      "cell_type": "code",
      "source": [
        "def proportion_ci(successes,n,alpha=0.05):\n",
        "  p_hat=successes/n\n",
        "  z=stats.norm.ppf(1-alpha/2)\n",
        "  se=np.sqrt(p_hat*(1-p_hat)/n)\n",
        "  return p_hat,p_hat-z*se,p_hat+z*se\n",
        "p_A_hat,ci_low_A,ci_high_A=proportion_ci(success_A,n_A)\n",
        "p_B_hat,ci_low_B,ci_high_B=proportion_ci(success_B,n_B)\n",
        "results=pd.DataFrame({\n",
        "    'Variant':['A','B'],\n",
        "    'Visitors':[n_A,n_B],\n",
        "    'Conversions':[success_A,success_B],\n",
        "    'CR':[p_A_hat,p_B_hat],\n",
        "    'CI_low':[ci_low_A,ci_low_B],\n",
        "    'CI_high':[ci_high_A,ci_high_B]\n",
        "})\n",
        "results"
      ],
      "metadata": {
        "colab": {
          "base_uri": "https://localhost:8080/",
          "height": 125
        },
        "id": "_Fnhf0N1ff9v",
        "outputId": "d0e6d1d3-f425-4774-881d-fdde4b10c40e"
      },
      "execution_count": null,
      "outputs": [
        {
          "output_type": "execute_result",
          "data": {
            "text/plain": [
              "  Variant  Visitors  Conversions      CR    CI_low   CI_high\n",
              "0       A     10000          973  0.0973  0.091491  0.103109\n",
              "1       B     10000         1134  0.1134  0.107185  0.119615"
            ],
            "text/html": [
              "\n",
              "  <div id=\"df-68a09095-4767-41a4-9be5-65fab894d974\" class=\"colab-df-container\">\n",
              "    <div>\n",
              "<style scoped>\n",
              "    .dataframe tbody tr th:only-of-type {\n",
              "        vertical-align: middle;\n",
              "    }\n",
              "\n",
              "    .dataframe tbody tr th {\n",
              "        vertical-align: top;\n",
              "    }\n",
              "\n",
              "    .dataframe thead th {\n",
              "        text-align: right;\n",
              "    }\n",
              "</style>\n",
              "<table border=\"1\" class=\"dataframe\">\n",
              "  <thead>\n",
              "    <tr style=\"text-align: right;\">\n",
              "      <th></th>\n",
              "      <th>Variant</th>\n",
              "      <th>Visitors</th>\n",
              "      <th>Conversions</th>\n",
              "      <th>CR</th>\n",
              "      <th>CI_low</th>\n",
              "      <th>CI_high</th>\n",
              "    </tr>\n",
              "  </thead>\n",
              "  <tbody>\n",
              "    <tr>\n",
              "      <th>0</th>\n",
              "      <td>A</td>\n",
              "      <td>10000</td>\n",
              "      <td>973</td>\n",
              "      <td>0.0973</td>\n",
              "      <td>0.091491</td>\n",
              "      <td>0.103109</td>\n",
              "    </tr>\n",
              "    <tr>\n",
              "      <th>1</th>\n",
              "      <td>B</td>\n",
              "      <td>10000</td>\n",
              "      <td>1134</td>\n",
              "      <td>0.1134</td>\n",
              "      <td>0.107185</td>\n",
              "      <td>0.119615</td>\n",
              "    </tr>\n",
              "  </tbody>\n",
              "</table>\n",
              "</div>\n",
              "    <div class=\"colab-df-buttons\">\n",
              "\n",
              "  <div class=\"colab-df-container\">\n",
              "    <button class=\"colab-df-convert\" onclick=\"convertToInteractive('df-68a09095-4767-41a4-9be5-65fab894d974')\"\n",
              "            title=\"Convert this dataframe to an interactive table.\"\n",
              "            style=\"display:none;\">\n",
              "\n",
              "  <svg xmlns=\"http://www.w3.org/2000/svg\" height=\"24px\" viewBox=\"0 -960 960 960\">\n",
              "    <path d=\"M120-120v-720h720v720H120Zm60-500h600v-160H180v160Zm220 220h160v-160H400v160Zm0 220h160v-160H400v160ZM180-400h160v-160H180v160Zm440 0h160v-160H620v160ZM180-180h160v-160H180v160Zm440 0h160v-160H620v160Z\"/>\n",
              "  </svg>\n",
              "    </button>\n",
              "\n",
              "  <style>\n",
              "    .colab-df-container {\n",
              "      display:flex;\n",
              "      gap: 12px;\n",
              "    }\n",
              "\n",
              "    .colab-df-convert {\n",
              "      background-color: #E8F0FE;\n",
              "      border: none;\n",
              "      border-radius: 50%;\n",
              "      cursor: pointer;\n",
              "      display: none;\n",
              "      fill: #1967D2;\n",
              "      height: 32px;\n",
              "      padding: 0 0 0 0;\n",
              "      width: 32px;\n",
              "    }\n",
              "\n",
              "    .colab-df-convert:hover {\n",
              "      background-color: #E2EBFA;\n",
              "      box-shadow: 0px 1px 2px rgba(60, 64, 67, 0.3), 0px 1px 3px 1px rgba(60, 64, 67, 0.15);\n",
              "      fill: #174EA6;\n",
              "    }\n",
              "\n",
              "    .colab-df-buttons div {\n",
              "      margin-bottom: 4px;\n",
              "    }\n",
              "\n",
              "    [theme=dark] .colab-df-convert {\n",
              "      background-color: #3B4455;\n",
              "      fill: #D2E3FC;\n",
              "    }\n",
              "\n",
              "    [theme=dark] .colab-df-convert:hover {\n",
              "      background-color: #434B5C;\n",
              "      box-shadow: 0px 1px 3px 1px rgba(0, 0, 0, 0.15);\n",
              "      filter: drop-shadow(0px 1px 2px rgba(0, 0, 0, 0.3));\n",
              "      fill: #FFFFFF;\n",
              "    }\n",
              "  </style>\n",
              "\n",
              "    <script>\n",
              "      const buttonEl =\n",
              "        document.querySelector('#df-68a09095-4767-41a4-9be5-65fab894d974 button.colab-df-convert');\n",
              "      buttonEl.style.display =\n",
              "        google.colab.kernel.accessAllowed ? 'block' : 'none';\n",
              "\n",
              "      async function convertToInteractive(key) {\n",
              "        const element = document.querySelector('#df-68a09095-4767-41a4-9be5-65fab894d974');\n",
              "        const dataTable =\n",
              "          await google.colab.kernel.invokeFunction('convertToInteractive',\n",
              "                                                    [key], {});\n",
              "        if (!dataTable) return;\n",
              "\n",
              "        const docLinkHtml = 'Like what you see? Visit the ' +\n",
              "          '<a target=\"_blank\" href=https://colab.research.google.com/notebooks/data_table.ipynb>data table notebook</a>'\n",
              "          + ' to learn more about interactive tables.';\n",
              "        element.innerHTML = '';\n",
              "        dataTable['output_type'] = 'display_data';\n",
              "        await google.colab.output.renderOutput(dataTable, element);\n",
              "        const docLink = document.createElement('div');\n",
              "        docLink.innerHTML = docLinkHtml;\n",
              "        element.appendChild(docLink);\n",
              "      }\n",
              "    </script>\n",
              "  </div>\n",
              "\n",
              "\n",
              "    <div id=\"df-ae4cf2a0-0883-462d-acae-8591395acbe5\">\n",
              "      <button class=\"colab-df-quickchart\" onclick=\"quickchart('df-ae4cf2a0-0883-462d-acae-8591395acbe5')\"\n",
              "                title=\"Suggest charts\"\n",
              "                style=\"display:none;\">\n",
              "\n",
              "<svg xmlns=\"http://www.w3.org/2000/svg\" height=\"24px\"viewBox=\"0 0 24 24\"\n",
              "     width=\"24px\">\n",
              "    <g>\n",
              "        <path d=\"M19 3H5c-1.1 0-2 .9-2 2v14c0 1.1.9 2 2 2h14c1.1 0 2-.9 2-2V5c0-1.1-.9-2-2-2zM9 17H7v-7h2v7zm4 0h-2V7h2v10zm4 0h-2v-4h2v4z\"/>\n",
              "    </g>\n",
              "</svg>\n",
              "      </button>\n",
              "\n",
              "<style>\n",
              "  .colab-df-quickchart {\n",
              "      --bg-color: #E8F0FE;\n",
              "      --fill-color: #1967D2;\n",
              "      --hover-bg-color: #E2EBFA;\n",
              "      --hover-fill-color: #174EA6;\n",
              "      --disabled-fill-color: #AAA;\n",
              "      --disabled-bg-color: #DDD;\n",
              "  }\n",
              "\n",
              "  [theme=dark] .colab-df-quickchart {\n",
              "      --bg-color: #3B4455;\n",
              "      --fill-color: #D2E3FC;\n",
              "      --hover-bg-color: #434B5C;\n",
              "      --hover-fill-color: #FFFFFF;\n",
              "      --disabled-bg-color: #3B4455;\n",
              "      --disabled-fill-color: #666;\n",
              "  }\n",
              "\n",
              "  .colab-df-quickchart {\n",
              "    background-color: var(--bg-color);\n",
              "    border: none;\n",
              "    border-radius: 50%;\n",
              "    cursor: pointer;\n",
              "    display: none;\n",
              "    fill: var(--fill-color);\n",
              "    height: 32px;\n",
              "    padding: 0;\n",
              "    width: 32px;\n",
              "  }\n",
              "\n",
              "  .colab-df-quickchart:hover {\n",
              "    background-color: var(--hover-bg-color);\n",
              "    box-shadow: 0 1px 2px rgba(60, 64, 67, 0.3), 0 1px 3px 1px rgba(60, 64, 67, 0.15);\n",
              "    fill: var(--button-hover-fill-color);\n",
              "  }\n",
              "\n",
              "  .colab-df-quickchart-complete:disabled,\n",
              "  .colab-df-quickchart-complete:disabled:hover {\n",
              "    background-color: var(--disabled-bg-color);\n",
              "    fill: var(--disabled-fill-color);\n",
              "    box-shadow: none;\n",
              "  }\n",
              "\n",
              "  .colab-df-spinner {\n",
              "    border: 2px solid var(--fill-color);\n",
              "    border-color: transparent;\n",
              "    border-bottom-color: var(--fill-color);\n",
              "    animation:\n",
              "      spin 1s steps(1) infinite;\n",
              "  }\n",
              "\n",
              "  @keyframes spin {\n",
              "    0% {\n",
              "      border-color: transparent;\n",
              "      border-bottom-color: var(--fill-color);\n",
              "      border-left-color: var(--fill-color);\n",
              "    }\n",
              "    20% {\n",
              "      border-color: transparent;\n",
              "      border-left-color: var(--fill-color);\n",
              "      border-top-color: var(--fill-color);\n",
              "    }\n",
              "    30% {\n",
              "      border-color: transparent;\n",
              "      border-left-color: var(--fill-color);\n",
              "      border-top-color: var(--fill-color);\n",
              "      border-right-color: var(--fill-color);\n",
              "    }\n",
              "    40% {\n",
              "      border-color: transparent;\n",
              "      border-right-color: var(--fill-color);\n",
              "      border-top-color: var(--fill-color);\n",
              "    }\n",
              "    60% {\n",
              "      border-color: transparent;\n",
              "      border-right-color: var(--fill-color);\n",
              "    }\n",
              "    80% {\n",
              "      border-color: transparent;\n",
              "      border-right-color: var(--fill-color);\n",
              "      border-bottom-color: var(--fill-color);\n",
              "    }\n",
              "    90% {\n",
              "      border-color: transparent;\n",
              "      border-bottom-color: var(--fill-color);\n",
              "    }\n",
              "  }\n",
              "</style>\n",
              "\n",
              "      <script>\n",
              "        async function quickchart(key) {\n",
              "          const quickchartButtonEl =\n",
              "            document.querySelector('#' + key + ' button');\n",
              "          quickchartButtonEl.disabled = true;  // To prevent multiple clicks.\n",
              "          quickchartButtonEl.classList.add('colab-df-spinner');\n",
              "          try {\n",
              "            const charts = await google.colab.kernel.invokeFunction(\n",
              "                'suggestCharts', [key], {});\n",
              "          } catch (error) {\n",
              "            console.error('Error during call to suggestCharts:', error);\n",
              "          }\n",
              "          quickchartButtonEl.classList.remove('colab-df-spinner');\n",
              "          quickchartButtonEl.classList.add('colab-df-quickchart-complete');\n",
              "        }\n",
              "        (() => {\n",
              "          let quickchartButtonEl =\n",
              "            document.querySelector('#df-ae4cf2a0-0883-462d-acae-8591395acbe5 button');\n",
              "          quickchartButtonEl.style.display =\n",
              "            google.colab.kernel.accessAllowed ? 'block' : 'none';\n",
              "        })();\n",
              "      </script>\n",
              "    </div>\n",
              "\n",
              "  <div id=\"id_311a4c6f-6242-4790-a2c7-9ec1c9f0f987\">\n",
              "    <style>\n",
              "      .colab-df-generate {\n",
              "        background-color: #E8F0FE;\n",
              "        border: none;\n",
              "        border-radius: 50%;\n",
              "        cursor: pointer;\n",
              "        display: none;\n",
              "        fill: #1967D2;\n",
              "        height: 32px;\n",
              "        padding: 0 0 0 0;\n",
              "        width: 32px;\n",
              "      }\n",
              "\n",
              "      .colab-df-generate:hover {\n",
              "        background-color: #E2EBFA;\n",
              "        box-shadow: 0px 1px 2px rgba(60, 64, 67, 0.3), 0px 1px 3px 1px rgba(60, 64, 67, 0.15);\n",
              "        fill: #174EA6;\n",
              "      }\n",
              "\n",
              "      [theme=dark] .colab-df-generate {\n",
              "        background-color: #3B4455;\n",
              "        fill: #D2E3FC;\n",
              "      }\n",
              "\n",
              "      [theme=dark] .colab-df-generate:hover {\n",
              "        background-color: #434B5C;\n",
              "        box-shadow: 0px 1px 3px 1px rgba(0, 0, 0, 0.15);\n",
              "        filter: drop-shadow(0px 1px 2px rgba(0, 0, 0, 0.3));\n",
              "        fill: #FFFFFF;\n",
              "      }\n",
              "    </style>\n",
              "    <button class=\"colab-df-generate\" onclick=\"generateWithVariable('results')\"\n",
              "            title=\"Generate code using this dataframe.\"\n",
              "            style=\"display:none;\">\n",
              "\n",
              "  <svg xmlns=\"http://www.w3.org/2000/svg\" height=\"24px\"viewBox=\"0 0 24 24\"\n",
              "       width=\"24px\">\n",
              "    <path d=\"M7,19H8.4L18.45,9,17,7.55,7,17.6ZM5,21V16.75L18.45,3.32a2,2,0,0,1,2.83,0l1.4,1.43a1.91,1.91,0,0,1,.58,1.4,1.91,1.91,0,0,1-.58,1.4L9.25,21ZM18.45,9,17,7.55Zm-12,3A5.31,5.31,0,0,0,4.9,8.1,5.31,5.31,0,0,0,1,6.5,5.31,5.31,0,0,0,4.9,4.9,5.31,5.31,0,0,0,6.5,1,5.31,5.31,0,0,0,8.1,4.9,5.31,5.31,0,0,0,12,6.5,5.46,5.46,0,0,0,6.5,12Z\"/>\n",
              "  </svg>\n",
              "    </button>\n",
              "    <script>\n",
              "      (() => {\n",
              "      const buttonEl =\n",
              "        document.querySelector('#id_311a4c6f-6242-4790-a2c7-9ec1c9f0f987 button.colab-df-generate');\n",
              "      buttonEl.style.display =\n",
              "        google.colab.kernel.accessAllowed ? 'block' : 'none';\n",
              "\n",
              "      buttonEl.onclick = () => {\n",
              "        google.colab.notebook.generateWithVariable('results');\n",
              "      }\n",
              "      })();\n",
              "    </script>\n",
              "  </div>\n",
              "\n",
              "    </div>\n",
              "  </div>\n"
            ],
            "application/vnd.google.colaboratory.intrinsic+json": {
              "type": "dataframe",
              "variable_name": "results",
              "summary": "{\n  \"name\": \"results\",\n  \"rows\": 2,\n  \"fields\": [\n    {\n      \"column\": \"Variant\",\n      \"properties\": {\n        \"dtype\": \"string\",\n        \"num_unique_values\": 2,\n        \"samples\": [\n          \"B\",\n          \"A\"\n        ],\n        \"semantic_type\": \"\",\n        \"description\": \"\"\n      }\n    },\n    {\n      \"column\": \"Visitors\",\n      \"properties\": {\n        \"dtype\": \"number\",\n        \"std\": 0,\n        \"min\": 10000,\n        \"max\": 10000,\n        \"num_unique_values\": 1,\n        \"samples\": [\n          10000\n        ],\n        \"semantic_type\": \"\",\n        \"description\": \"\"\n      }\n    },\n    {\n      \"column\": \"Conversions\",\n      \"properties\": {\n        \"dtype\": \"number\",\n        \"std\": 113,\n        \"min\": 973,\n        \"max\": 1134,\n        \"num_unique_values\": 2,\n        \"samples\": [\n          1134\n        ],\n        \"semantic_type\": \"\",\n        \"description\": \"\"\n      }\n    },\n    {\n      \"column\": \"CR\",\n      \"properties\": {\n        \"dtype\": \"number\",\n        \"std\": 0.011384419177103419,\n        \"min\": 0.0973,\n        \"max\": 0.1134,\n        \"num_unique_values\": 2,\n        \"samples\": [\n          0.1134\n        ],\n        \"semantic_type\": \"\",\n        \"description\": \"\"\n      }\n    },\n    {\n      \"column\": \"CI_low\",\n      \"properties\": {\n        \"dtype\": \"number\",\n        \"std\": 0.011097325220214092,\n        \"min\": 0.09149133631051884,\n        \"max\": 0.1071853241430106,\n        \"num_unique_values\": 2,\n        \"samples\": [\n          0.1071853241430106\n        ],\n        \"semantic_type\": \"\",\n        \"description\": \"\"\n      }\n    },\n    {\n      \"column\": \"CI_high\",\n      \"properties\": {\n        \"dtype\": \"number\",\n        \"std\": 0.011671513133992744,\n        \"min\": 0.10310866368948116,\n        \"max\": 0.1196146758569894,\n        \"num_unique_values\": 2,\n        \"samples\": [\n          0.1196146758569894\n        ],\n        \"semantic_type\": \"\",\n        \"description\": \"\"\n      }\n    }\n  ]\n}"
            }
          },
          "metadata": {},
          "execution_count": 6
        }
      ]
    },
    {
      "cell_type": "markdown",
      "source": [
        "\n",
        "\n",
        "---\n",
        "\n",
        "\n",
        "A bar chart is used to visually compare conversion rates of Variant A and B.\n",
        "\n",
        "Error bars represent the 95% confidence intervals.\n",
        "\n",
        "If bars overlap, the difference may not be statistically significant.\n",
        "\n",
        "---\n",
        "\n"
      ],
      "metadata": {
        "id": "Ybv0gjsp2a-g"
      }
    },
    {
      "cell_type": "code",
      "source": [
        "plt.figure(figsize=(6,4))\n",
        "plt.bar(results['Variant'],\n",
        "        results['CR'],\n",
        "        yerr=[\n",
        "            results['CR'] - results['CI_low'], # Corrected lower error: distance from CR down to CI_low\n",
        "            results['CI_high'] - results['CR'] # Corrected upper error: distance from CR up to CI_high\n",
        "        ],\n",
        "        capsize=5,\n",
        "        color=['skyblue','salmon'])\n",
        "plt.ylabel('Conversion Rate')\n",
        "plt.title('Conversion Rates for Variant A and Variant B')\n",
        "plt.show()"
      ],
      "metadata": {
        "colab": {
          "base_uri": "https://localhost:8080/",
          "height": 391
        },
        "id": "BzKdjH7JjMEy",
        "outputId": "d520b1fa-a89a-4780-b288-ff1d7ad1cdcb"
      },
      "execution_count": null,
      "outputs": [
        {
          "output_type": "display_data",
          "data": {
            "text/plain": [
              "<Figure size 600x400 with 1 Axes>"
            ],
            "image/png": "[encoded data removed]"
          },
          "metadata": {}
        }
      ]
    },
    {
      "cell_type": "markdown",
      "source": [
        "## Two-Proportion z-Test\n",
        "\n",
        "\n",
        "---\n",
        "\n",
        "The Z-test for proportions tests if Variant B has a significantly higher conversion rate than A.\n",
        "\n",
        "\n",
        "The p-value tells us:\n",
        "\n",
        "Small p (< 0.05) → significant improvement in B\n",
        "\n",
        "Large p → difference may be due to chance\n",
        "\n",
        "---\n",
        "\n"
      ],
      "metadata": {
        "id": "OX7WjBPuSPs8"
      }
    },
    {
      "cell_type": "code",
      "source": [
        "#h0 -p_B <=p_A vs h1 -p_B>p_A (design test)\n",
        "count=np.array([success_B,success_A]) #Visitors\n",
        "nobs=np.array([n_A,n_B]) #Conversion rate\n",
        "z_stat,p_val=proportions_ztest(count,nobs,alternative='larger')\n",
        "print(f'z-statistic: {z_stat:.3f}')\n",
        "print(f'p-value: {p_val:.3f}')\n",
        "if p_val<0.05:\n",
        "  print('Reject the null hypothesis')\n",
        "else:\n",
        "  print('Fail to reject the null hypothesis')"
      ],
      "metadata": {
        "id": "TTF-RtKJmd5J",
        "colab": {
          "base_uri": "https://localhost:8080/"
        },
        "outputId": "87b19a49-76a9-42c6-f10e-f83158b603e6"
      },
      "execution_count": null,
      "outputs": [
        {
          "output_type": "stream",
          "name": "stdout",
          "text": [
            "z-statistic: 3.708\n",
            "p-value: 0.000\n",
            "Reject the null hypothesis\n"
          ]
        }
      ]
    },
    {
      "cell_type": "markdown",
      "source": [
        "## Real-Time monitoring and sequential testing\n",
        "\n",
        "\n",
        "---\n",
        "\n",
        "Simulates real-time A/B testing in batches of users (like receiving 100 users per hour).\n",
        "\n",
        "At each batch:\n",
        "\n",
        "Simulates new conversions.\n",
        "\n",
        "Updates cumulative conversions and sample sizes.\n",
        "\n",
        "Recalculates conversion rates, lift, and p-values.\n",
        "\n",
        "Sequential testing helps monitor trends and decide when to stop the test early.\n",
        "\n",
        "---\n",
        "\n"
      ],
      "metadata": {
        "id": "ZlqZfhK3Y8uV"
      }
    },
    {
      "cell_type": "code",
      "source": [
        "#use same conversion rate(a=0.10,b=0.12)\n",
        "true_p_A,true_p_B=0.10,0.12\n",
        "batch_size=100 #visitor per batch\n",
        "n_batch=60 #simulate 60 time steps\n",
        "\n",
        "#initializing counter\n",
        "n_visits_A=n_visits_B=0\n",
        "n_succ_A=n_succ_B=0\n",
        "\n",
        "#list for plotting\n",
        "batches=[]\n",
        "p_values=[]\n",
        "lifts=[]"
      ],
      "metadata": {
        "id": "GGubuT0HUCLK"
      },
      "execution_count": null,
      "outputs": []
    },
    {
      "cell_type": "code",
      "source": [
        "for batch in range(1, n_batch+1):\n",
        "  # simulate one batch of visitors\n",
        "  new_A=np.random.binomial(batch_size,true_p_A)\n",
        "  new_B=np.random.binomial(batch_size,true_p_B)\n",
        "\n",
        "  #upload total\n",
        "  n_visits_A+=new_A\n",
        "  n_visits_B+=new_B\n",
        "\n",
        "  #upload successes\n",
        "  n_succ_A+=new_A\n",
        "  n_succ_B+=new_B\n",
        "\n",
        "  #current conversion rate\n",
        "  cr_A=n_succ_A/n_visits_A\n",
        "  cr_B=n_succ_B/n_visits_B\n",
        "\n",
        "  #calculate lift\n",
        "  lift=cr_B-cr_A\n",
        "\n",
        "  #two proportion z-test\n",
        "  count=np.array([n_succ_B,n_succ_A])\n",
        "  nobs=np.array([n_visits_B,n_visits_A])\n",
        "  z_stat,p_val=proportions_ztest(count,nobs,alternative='larger')\n",
        "\n",
        "  #store results\n",
        "  batches.append(batch)\n",
        "  p_values.append(p_val)\n",
        "  lifts.append(lift)\n",
        "\n",
        "  #clear previous o/p and print current state\n",
        "  clear_output(wait=True)\n",
        "  print(f'Batch: {batch}')\n",
        "  print(f\"variant A:{n_visits_A} visits,{n_succ_A} busy -> CR={cr_A:.3%}\")\n",
        "  print(f\"variant B:{n_visits_B} visits,{n_succ_B} busy -> CR={cr_B:.3%}\")\n",
        "  print(f'Lift: {lift:.3f}')\n",
        "  print(f'p-value: {p_val:.3f}')\n",
        "  if p_val < 0.05:\n",
        "    print('Reject the null hypothesis')\n",
        "  else:\n",
        "    print('Fail to reject the null hypothesis')"
      ],
      "metadata": {
        "colab": {
          "base_uri": "https://localhost:8080/"
        },
        "id": "qmbyz58TcxJg",
        "outputId": "928d3828-e5c5-419d-90a9-64a3ec283212"
      },
      "execution_count": null,
      "outputs": [
        {
          "output_type": "stream",
          "name": "stdout",
          "text": [
            "Batch: 60\n",
            "variant A:574 visits,574 busy -> CR=100.000%\n",
            "variant B:714 visits,714 busy -> CR=100.000%\n",
            "Lift: 0.000\n",
            "p-value: nan\n",
            "Fail to reject the null hypothesis\n"
          ]
        }
      ]
    },
    {
      "cell_type": "markdown",
      "source": [
        "\n",
        "\n",
        "---\n",
        "\n",
        "First plot tracks how the p-value changes across batches:\n",
        "\n",
        "Helps visualize when (if ever) B becomes statistically better than A.\n",
        "\n",
        "Measures how much better B performs than A over time.\n",
        "\n",
        "A consistently positive lift suggests B is superior.\n",
        "\n",
        "\n",
        "\n",
        "---\n",
        "\n"
      ],
      "metadata": {
        "id": "WEBUyBtR3RBp"
      }
    },
    {
      "cell_type": "code",
      "source": [
        "# use same conversion rate(a=0.10,b=0.12)\n",
        "true_p_A, true_p_B = 0.10, 0.12\n",
        "batch_size = 100  # visitor per batch\n",
        "n_batch = 60  # simulate 60 time steps\n",
        "\n",
        "# initializing counter\n",
        "n_visits_A = n_visits_B = 0\n",
        "n_succ_A = n_succ_B = 0\n",
        "\n",
        "# list for plotting\n",
        "batches = []\n",
        "p_values = []\n",
        "# Initialize observed_lifts list\n",
        "observed_lifts = []\n",
        "\n",
        "# The loop below was corrected to use n_batch, true_p_A, and true_p_B\n",
        "for batch in range(1, n_batch + 1):\n",
        "    # Simulate one batch of visitors\n",
        "    new_A = np.random.binomial(batch_size, true_p_A)\n",
        "    new_B = np.random.binomial(batch_size, true_p_B)\n",
        "    n_visits_A += batch_size\n",
        "    n_visits_B += batch_size\n",
        "    n_succ_A += new_A\n",
        "    n_succ_B += new_B\n",
        "\n",
        "\n",
        "    # Compute conversion rates and lift\n",
        "    # Check for division by zero in case n_visits_A or n_visits_B is 0\n",
        "    cr_A = n_succ_A / n_visits_A if n_visits_A > 0 else 0\n",
        "    cr_B = n_succ_B / n_visits_B if n_visits_B > 0 else 0\n",
        "\n",
        "    lift = cr_B - cr_A\n",
        "\n",
        "    # Two-proportion z-test (one-sided: B > A)\n",
        "    count = np.array([n_succ_B, n_succ_A])\n",
        "    nobs = np.array([n_visits_B, n_visits_A])\n",
        "    # Ensure nobs are positive for the z-test\n",
        "    if nobs.min() > 0:\n",
        "        z_stat, p_val = proportions_ztest(count, nobs, alternative='larger')\n",
        "    else:\n",
        "        z_stat, p_val = np.nan, np.nan # Set to NaN if not enough observations\n",
        "\n",
        "    # Record for plotting\n",
        "    batches.append(batch)\n",
        "    p_values.append(p_val)\n",
        "    observed_lifts.append(lift)\n",
        "\n",
        "    # Display live update\n",
        "    clear_output(wait=True)\n",
        "    print(f\"Batch {batch}/{n_batch}\")\n",
        "    print(f\" Variant A: {n_visits_A} visits, {n_succ_A} buys → CR = {cr_A:.3%}\")\n",
        "    print(f\" Variant B: {n_visits_B} visits, {n_succ_B} buys → CR = {cr_B:.3%}\")\n",
        "    print(f\" Observed lift: {lift:.3%}\")\n",
        "    print(f\" z-stat = {z_stat:.2f}, p-value = {p_val:.4f}\")\n",
        "    if not np.isnan(p_val) and p_val < 0.05:\n",
        "        print(\" Significant lift detected (p<0.05).\")\n",
        "    elif np.isnan(p_val):\n",
        "        print(\" Not enough data for z-test yet.\")\n",
        "    else:\n",
        "        print(\" No significant lift yet.\")\n",
        "\n",
        "# Plot results\n",
        "fig, axes = plt.subplots(1, 2, figsize=(12, 4))\n",
        "\n",
        "# P-values over batches\n",
        "axes[0].plot(batches, p_values, 'o-')\n",
        "axes[0].axhline(0.05, color='red', linestyle='--', label='α = 0.05')\n",
        "axes[0].set_title('Sequential p-value')\n",
        "axes[0].set_xlabel('Batch number')\n",
        "axes[0].set_ylabel('p-value')\n",
        "axes[0].legend()\n",
        "# Limit y-axis to 0-1 for p-values\n",
        "axes[0].set_ylim(0, 1)\n",
        "\n",
        "\n",
        "# Lift over batches\n",
        "axes[1].plot(batches, observed_lifts, 'o-')\n",
        "axes[1].set_title('Observed Lift (CR_B − CR_A)')\n",
        "axes[1].set_xlabel('Batch number')\n",
        "axes[1].set_ylabel('Lift')\n",
        "\n",
        "plt.tight_layout()\n",
        "plt.show()"
      ],
      "metadata": {
        "colab": {
          "base_uri": "https://localhost:8080/",
          "height": 516
        },
        "id": "zl5dYfN8mBuH",
        "outputId": "c0336594-e066-4d16-a2ac-094ea3e862d1"
      },
      "execution_count": null,
      "outputs": [
        {
          "output_type": "stream",
          "name": "stdout",
          "text": [
            "Batch 60/60\n",
            " Variant A: 6000 visits, 610 buys → CR = 10.167%\n",
            " Variant B: 6000 visits, 697 buys → CR = 11.617%\n",
            " Observed lift: 1.450%\n",
            " z-stat = 2.55, p-value = 0.0054\n",
            " Significant lift detected (p<0.05).\n"
          ]
        },
        {
          "output_type": "display_data",
          "data": {
            "text/plain": [
              "<Figure size 1200x400 with 2 Axes>"
            ],
            "image/png": "[encoded data removed]"
          },
          "metadata": {}
        }
      ]
    },
    {
      "cell_type": "markdown",
      "source": [
        "## Conclusion\n",
        "The A/B test compared the old checkout funnel (A) with the new one (B) using simulated user data. Funnel B showed a higher conversion rate than Funnel A. The 95% confidence intervals and the two-proportion z-test confirmed that this improvement is statistically significant.\n",
        "\n",
        "Real-time monitoring and sequential testing further supported the reliability of the results.\n",
        "\n",
        "Final Decision: Funnel B outperforms Funnel A and should be adopted to improve overall conversion rates."
      ],
      "metadata": {
        "id": "5bDgTCiLIKGN"
      }
    }
  ]
}